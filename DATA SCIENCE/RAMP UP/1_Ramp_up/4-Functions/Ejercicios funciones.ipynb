{
 "cells": [
  {
   "cell_type": "markdown",
   "metadata": {},
   "source": [
    "![imagen](./img/ejercicios.png)"
   ]
  },
  {
   "cell_type": "markdown",
   "metadata": {},
   "source": [
    "# Ejercicios funciones\n",
    "## Ejercicio 1\n",
    "Escribe una función que convierta números del 1 al 7 en nombres de los dias de la semana. La función constará de un único argumento numérico y una salida de tipo string"
   ]
  },
  {
   "cell_type": "code",
   "execution_count": 11,
   "metadata": {},
   "outputs": [
    {
     "name": "stdout",
     "output_type": "stream",
     "text": [
      "Miercoles\n"
     ]
    }
   ],
   "source": [
    "def convertidor(numero):\n",
    "    dias = [\"Lunes\", \"Martes\", \"Miercoles\", \"Jueves\", \"Viernes\", \"Sabado\", \"Domingo\"]\n",
    "    if numero == 1:\n",
    "        print(dias[0])\n",
    "    elif numero == 2:\n",
    "        print(dias[1])\n",
    "    elif numero == 3:\n",
    "        print(dias[2])\n",
    "    elif numero == 4:\n",
    "        print(dias[3])\n",
    "    elif numero == 5:\n",
    "        print(dias[4])\n",
    "    elif numero == 6:\n",
    "        print(dias[5])\n",
    "    elif numero == 7:\n",
    "        print(dias[6])\n",
    "    else:\n",
    "        return \"Numero incorrecto, escriba un numero del 1 al 7\"\n",
    "    \n",
    "convertidor(3)\n"
   ]
  },
  {
   "cell_type": "markdown",
   "metadata": {},
   "source": [
    "## Ejercicio 2\n",
    "En el ejercicio 8 de bucles, creábamos una pirámide invertida, cuyo número de pisos venía determinado por un input del usuario. Crear una función que replique el comportamiento de la pirámide, y utiliza un único parámetro de entrada de la función para determinar el número de filas de la pirámide, es decir, elimina la sentencia input."
   ]
  },
  {
   "cell_type": "code",
   "execution_count": 16,
   "metadata": {},
   "outputs": [
    {
     "name": "stdout",
     "output_type": "stream",
     "text": [
      "1 2 3 4 5 6 7 8  \n",
      "1 2 3 4 5 6 7  \n",
      "1 2 3 4 5 6  \n",
      "1 2 3 4 5  \n",
      "1 2 3 4  \n",
      "1 2 3  \n",
      "1 2  \n",
      "1  \n"
     ]
    }
   ],
   "source": [
    "def piramide(numero):\n",
    "   while numero > 0: \n",
    "    for n in range(1,numero+1):\n",
    "        print(n, end = \" \")\n",
    "    print(\" \")\n",
    "    numero = numero - 1\n",
    "\n",
    "piramide(8)\n",
    "\n"
   ]
  },
  {
   "cell_type": "code",
   "execution_count": 9,
   "metadata": {},
   "outputs": [
    {
     "name": "stdout",
     "output_type": "stream",
     "text": [
      "\n",
      "None\n"
     ]
    }
   ],
   "source": [
    "\n"
   ]
  },
  {
   "cell_type": "markdown",
   "metadata": {},
   "source": [
    "## Ejercicio 3\n",
    "Escibe una función que compare dos números. La función tiene dos argumentos y hay tres salidas posibles: que sean iguales, que el primero se  mayor que el segundo, o que el segundo sea mayor que el primero"
   ]
  },
  {
   "cell_type": "code",
   "execution_count": 18,
   "metadata": {},
   "outputs": [
    {
     "name": "stdout",
     "output_type": "stream",
     "text": [
      "Los numeros son iguales\n",
      "El numero 41 es mayor que el numero 35\n",
      "El numero 65 es mayor que el numero -98\n"
     ]
    }
   ],
   "source": [
    "def comparador(num1, num2):\n",
    "    if num1 == num2:\n",
    "        print(\"Los numeros son iguales\")\n",
    "    elif num1 > num2:\n",
    "        print(f\"El numero {num1} es mayor que el numero {num2}\")\n",
    "    elif num1 < num2:\n",
    "        print(f\"El numero {num2} es mayor que el numero {num1}\")\n",
    "\n",
    "comparador(2,2)\n",
    "comparador(41, 35)\n",
    "comparador(-98, 65)\n"
   ]
  },
  {
   "cell_type": "markdown",
   "metadata": {},
   "source": [
    "## Ejercicio 4\n",
    "Escribe una función que sea un contador de letras. En el primer argumento tienes que introducir un texto, y el segundo que sea la letra a contar. La función tiene que devolver un entero con el número de veces que aparece esa letra, tanto mayuscula, como minúscula"
   ]
  },
  {
   "cell_type": "code",
   "execution_count": 24,
   "metadata": {},
   "outputs": [
    {
     "name": "stdout",
     "output_type": "stream",
     "text": [
      "La letra a aparece 3 veces en tu texto\n"
     ]
    }
   ],
   "source": [
    "def contador(frase, letra):\n",
    "    numero = frase.lower().count(letra.lower())\n",
    "    print(f\"La letra {letra} aparece {numero} veces en tu texto\")\n",
    "    \n",
    "    \n",
    "\n",
    "contador(\"Ella en el insta me tiene en los ma\",\"a\")\n"
   ]
  },
  {
   "cell_type": "markdown",
   "metadata": {},
   "source": [
    "## Ejercicio 5\n",
    "Escribe una función que tenga un único argumento, un string. La salida de la función tiene que ser un diccionario con el conteo de todas las letras de ese string."
   ]
  },
  {
   "cell_type": "code",
   "execution_count": 43,
   "metadata": {},
   "outputs": [
    {
     "name": "stdout",
     "output_type": "stream",
     "text": [
      "l : 10\n",
      "a : 9\n",
      "  : 8\n",
      "s : 7\n",
      "o : 6\n",
      "l : 5\n",
      "e : 4\n",
      "d : 3\n",
      "a : 2\n",
      "d : 1\n"
     ]
    }
   ],
   "source": [
    "def conteo(letras):\n",
    "    n = int(len(letras))\n",
    "    for i in letras:\n",
    "        print(i, \":\", n)\n",
    "        n = n-1\n",
    "            \n",
    "\n",
    "conteo(\"la soledad\")"
   ]
  },
  {
   "cell_type": "code",
   "execution_count": 39,
   "metadata": {},
   "outputs": [
    {
     "data": {
      "text/plain": [
       "{'E': 1,\n",
       " 'l': 3,\n",
       " 'c': 2,\n",
       " 'a': 4,\n",
       " 'm': 2,\n",
       " 'i': 2,\n",
       " 'n': 2,\n",
       " 'o': 3,\n",
       " 'h': 1,\n",
       " 'e': 3,\n",
       " 't': 1,\n",
       " 's': 1,\n",
       " 'r': 1,\n",
       " 'g': 1}"
      ]
     },
     "execution_count": 39,
     "metadata": {},
     "output_type": "execute_result"
    }
   ],
   "source": [
    "def contar_letras(texto):\n",
    "    conteo = {}\n",
    "    for letra in texto:\n",
    "        if letra.isalpha():\n",
    "            if letra in conteo:\n",
    "                conteo[letra] += 1\n",
    "            else:\n",
    "                conteo[letra] = 1\n",
    "    return conteo\n",
    "\n",
    "contar_letras(\"El camino hacia el monte es largo 2\")"
   ]
  },
  {
   "cell_type": "markdown",
   "metadata": {},
   "source": [
    "## Ejercicio 6\n",
    "Escribir una función que añada o elimine elementos en una lista. La función necesita los siguientes argumentos:\n",
    "* lista: la lista donde se añadirán o eliminarán los elementos\n",
    "* comando: \"add\" o \"remove\"\n",
    "* elemento: Por defecto es None."
   ]
  },
  {
   "cell_type": "code",
   "execution_count": 2,
   "metadata": {},
   "outputs": [
    {
     "name": "stdout",
     "output_type": "stream",
     "text": [
      "[1, 2, 3, 9]\n",
      "Añadido el 9999 porque no se introdujo valor en el argumento elemento\n",
      "[1, 2, 3, 9999]\n",
      "[1, 3]\n",
      "No ha introducido el elemento\n",
      "[1, 2, 3]\n",
      "El elemento 10 no existe en la lista\n",
      "[1, 2, 3]\n",
      "error\n",
      "[1, 2, 3]\n"
     ]
    }
   ],
   "source": [
    "def manipular(lista, comando, None)"
   ]
  },
  {
   "cell_type": "code",
   "execution_count": 49,
   "metadata": {},
   "outputs": [
    {
     "name": "stdout",
     "output_type": "stream",
     "text": [
      "[1, 25, 58, 58]\n"
     ]
    },
    {
     "data": {
      "text/plain": [
       "[1, 25, 58]"
      ]
     },
     "execution_count": 49,
     "metadata": {},
     "output_type": "execute_result"
    }
   ],
   "source": [
    "def manipular(lista, comando, elemento = None):\n",
    "    lista = [1, 25, 68, 58]\n",
    "    print(lista)\n",
    "    comando = input(\"Escribe add o remove\")\n",
    "    if comando == \"add\":\n",
    "        elemento_añadir = input(\"Escriba el elemnto que quisiera agregar\")\n",
    "        lista.append(elemento_añadir)\n",
    "        return lista\n",
    "    elif comando == \"remove\":\n",
    "        elemento_borrar = int(input(\"Escriba que elemento de la lista le gustaria eliminar\"))\n",
    "        lista.remove(elemento_borrar)\n",
    "        return lista\n",
    "    else:\n",
    "        return \"Opcion no valida\"\n",
    "    \n",
    "manipular(lista = [1, 25, \"Roberto\", 58], comando = \"add\")\n",
    "\n"
   ]
  },
  {
   "cell_type": "markdown",
   "metadata": {},
   "source": [
    "## Ejercicio 7\n",
    "Crea una función que reciba un número arbitrario de palabras, y devuelva una frase completa, separando las palabras con espacios."
   ]
  },
  {
   "cell_type": "code",
   "execution_count": 51,
   "metadata": {},
   "outputs": [
    {
     "data": {
      "text/plain": [
       "'asd 5 a'"
      ]
     },
     "execution_count": 51,
     "metadata": {},
     "output_type": "execute_result"
    }
   ],
   "source": [
    "def crear_frase(*palabras):\n",
    "    frase = \" \".join(palabras)\n",
    "    return frase\n",
    "\n",
    "crear_frase(input(\"Escriba lo que usted desee para visualizarlo\"))"
   ]
  },
  {
   "cell_type": "markdown",
   "metadata": {},
   "source": [
    "## Ejercicio 8\n",
    "Escribe un programa que obtenga el enésimo número de la [serie de Fibonacci](https://es.wikipedia.org/wiki/Sucesi%C3%B3n_de_Fibonacci). Tienes que crear una función recursiva con un único argumento.\n",
    "\n",
    "```Python\n",
    "fibonacci(2) = 1\n",
    "fibonacci(4) = 3\n",
    "fibonacci(5) = 5\n",
    "fibonacci(8) = 21\n",
    "```"
   ]
  },
  {
   "cell_type": "code",
   "execution_count": 55,
   "metadata": {},
   "outputs": [
    {
     "data": {
      "text/plain": [
       "21"
      ]
     },
     "execution_count": 55,
     "metadata": {},
     "output_type": "execute_result"
    }
   ],
   "source": [
    "def fibonacci(n):\n",
    "    if n == 1:\n",
    "        return n\n",
    "    elif n == 2:\n",
    "        return 1\n",
    "    elif n == 0:\n",
    "        return 0\n",
    "    else:\n",
    "        return fibonacci(n-1) + fibonacci(n-2)\n",
    "    \n",
    "fibonacci(8)"
   ]
  },
  {
   "cell_type": "markdown",
   "metadata": {},
   "source": [
    "## Ejercicio 9\n",
    "Define en una única celda las siguientes funciones:\n",
    "* Función que calcule el área de un cuadrado\n",
    "* Función que calcule el area de un triángulo\n",
    "* Función que calcule el área de un círculo\n",
    "\n",
    "En otra celda, calcular el area de:\n",
    "* Dos círculos de radio 10 + un triángulo de base 3 y altura 7\n",
    "* Un cuadrado de lado = 10 + 3 círculos (uno de radio = 4 y los otros dos de radio = 6) + 5 triángulos de base = 2 + altura = 4"
   ]
  },
  {
   "cell_type": "code",
   "execution_count": 56,
   "metadata": {},
   "outputs": [],
   "source": [
    "import math\n",
    "\n",
    "def cuadrado(lado):\n",
    "    return lado * lado\n",
    "\n",
    "def triangulo(base,altura):\n",
    "    return base*altura\n",
    "\n",
    "def circulo(radio):\n",
    "    return math.pi * radio**2\n"
   ]
  },
  {
   "cell_type": "code",
   "execution_count": 60,
   "metadata": {},
   "outputs": [
    {
     "name": "stdout",
     "output_type": "stream",
     "text": [
      "649.3185307179587\n",
      "416.46015351590177\n"
     ]
    }
   ],
   "source": [
    "circulito = 2*circulo(10)\n",
    "triangulito = (triangulo(3,7))\n",
    "area1 = (circulito + triangulito)\n",
    "print(area1)\n",
    "\n",
    "cuadradito = (cuadrado(10))\n",
    "circulitos = circulo(4) + 2*circulo(6)\n",
    "triangulitos = 5*triangulo(2,4)\n",
    "area2 = cuadradito + circulitos + triangulitos \n",
    "print(area2)\n"
   ]
  }
 ],
 "metadata": {
  "kernelspec": {
   "display_name": "Python 3 (ipykernel)",
   "language": "python",
   "name": "python3"
  },
  "language_info": {
   "codemirror_mode": {
    "name": "ipython",
    "version": 3
   },
   "file_extension": ".py",
   "mimetype": "text/x-python",
   "name": "python",
   "nbconvert_exporter": "python",
   "pygments_lexer": "ipython3",
   "version": "3.11.3"
  }
 },
 "nbformat": 4,
 "nbformat_minor": 4
}
