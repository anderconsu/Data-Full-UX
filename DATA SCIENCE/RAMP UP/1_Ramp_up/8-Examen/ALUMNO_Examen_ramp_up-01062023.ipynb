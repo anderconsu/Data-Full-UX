{
 "cells": [
  {
   "attachments": {},
   "cell_type": "markdown",
   "id": "1f1401c1-4dc9-4902-95bf-160715a42a25",
   "metadata": {},
   "source": [
    "# Prueba de Ramp-up"
   ]
  },
  {
   "attachments": {},
   "cell_type": "markdown",
   "id": "1b34c670-a6dd-482d-9b04-5babee7be17a",
   "metadata": {},
   "source": [
    "Antes de comenzar, cambia el nombre del archivo notebook poniéndole delante tu nombre y primer apellido:\n",
    "\n",
    "* nombre_apellido_test_pract_ene_2023.ipynb"
   ]
  },
  {
   "cell_type": "code",
   "execution_count": 3,
   "id": "c8d9a657-272c-425a-9ac4-ea59f479673c",
   "metadata": {},
   "outputs": [],
   "source": [
    "# Escribe tu nombre en la variable:\n",
    "nombre_y_apellidos = \"Alejo Sotillo Grellet\"\n",
    "sede = \"Bilbao\""
   ]
  },
  {
   "cell_type": "code",
   "execution_count": 5,
   "id": "2e9f9af5-076c-44ec-9a80-95c0e99cdc58",
   "metadata": {},
   "outputs": [],
   "source": [
    "\"\"\"\n",
    "Criterios de corrección:\n",
    "\n",
    "ejecución (ausencia de errores y obtención de resultados)\n",
    "estructura del código\n",
    "uso correcto de variables\n",
    "manejo de tipo de variables\n",
    "asignaciones\n",
    "operaciones booleanas\n",
    "manejo lógico de flujos de control y bucles\n",
    "uso de colecciones\n",
    "uso de funciones\n",
    "\"\"\";\n",
    "\n",
    "# Ejemplo de como queremos ver el código para más de un intento:\n",
    "\n",
    "# intento 1\n",
    "#your code\n",
    "\n",
    "# intento 2\n",
    "#your code"
   ]
  },
  {
   "cell_type": "code",
   "execution_count": 6,
   "id": "bb16d0e3-3bb9-4f2b-944e-8fc35e628701",
   "metadata": {},
   "outputs": [],
   "source": [
    "# crea todas las celdas que necesites"
   ]
  },
  {
   "attachments": {},
   "cell_type": "markdown",
   "id": "9e02b8f5-6f66-4e73-acfa-7f8c3977de2a",
   "metadata": {},
   "source": [
    "#### Notas y pruebas de apoyo para contestar las preguntas\n",
    "\n",
    "\n",
    "Cualquier código aunque no esté correcto nos dirá más de ti que no escribir nada. "
   ]
  },
  {
   "attachments": {},
   "cell_type": "markdown",
   "id": "57d6b062-27f8-4377-b583-d662777b0bd7",
   "metadata": {},
   "source": [
    "__Debes subir tus respuestas antes de las 12:00 al enlace que habilitaremos__\n",
    "En una hora larga debería dar tiempo. ***¡guarda todo lo que hagas!***"
   ]
  },
  {
   "attachments": {},
   "cell_type": "markdown",
   "id": "bd4e174d",
   "metadata": {},
   "source": [
    "#### Ejercicio 1\n",
    "\n",
    "Escribe un programa que simule un libro de \"sigue tu propia aventura\".\n",
    "\n",
    "Solo se pide control de flujo y uso de print().\n",
    "El programa tiene dos variables:\n",
    "\n",
    "puerta --> es una variable de tipo entero\n",
    "\n",
    "amuleto --> es una variable booleana\n",
    "\n",
    "Si la puerta que eliges es la 1, imprime \"has perdido\"\n",
    "\n",
    "Si la puerta que eliges es la 2 y tienes el amuleto (verdadero), imprime \"has ganado\"\n",
    "\n",
    "En cualquier otro caso, imprime \"sigue jugando\"\n",
    "\n",
    "Haz este programa de dos formas: usando un AND y sin usar un AND\n",
    "\n",
    "Nota: no son necesarias funciones. Puedes declarar puerta y amuleto al principio de tu programa."
   ]
  },
  {
   "cell_type": "code",
   "execution_count": 61,
   "id": "22cc5bdf",
   "metadata": {},
   "outputs": [
    {
     "name": "stdout",
     "output_type": "stream",
     "text": [
      "\n",
      "    En este juego trataremos de escapar de de la casa embrujada,\n",
      "    tendras que ir eligiendo entre puertas hasta lograr salir.\n",
      "    Que la suerte te acompañe!\n",
      "\n",
      "Has ganado, pudiste escapar!\n"
     ]
    }
   ],
   "source": [
    "import random\n",
    "\n",
    "print(\"\"\"\n",
    "    En este juego trataremos de escapar de de la casa embrujada,\n",
    "    tendras que ir eligiendo entre puertas hasta lograr salir.\n",
    "    Que la suerte te acompañe!\n",
    "\"\"\")\n",
    "\n",
    "#Declaro variables\n",
    "puerta = str(input(\"Elige la puerta: 1 o 2\"))\n",
    "amuleto = random.choice([True, False])\n",
    "\n",
    "#Le digo al programa que hacer en cada caso dependiendo de la opcion que elija el jugador y dependiendo de la opcion random que tomo el programa para el amuleto usando and\n",
    "if puerta == \"1\":\n",
    "    print(\"Has perdido\")\n",
    "elif puerta == \"2\" and amuleto == True:\n",
    "    print(\"Has ganado, pudiste escapar!\")\n",
    "else:\n",
    "    print(\"Sigue jugando\")\n",
    "        "
   ]
  },
  {
   "cell_type": "code",
   "execution_count": 66,
   "id": "aabbdd9a",
   "metadata": {},
   "outputs": [
    {
     "name": "stdout",
     "output_type": "stream",
     "text": [
      "\n",
      "    En este juego trataremos de escapar de de la casa embrujada,\n",
      "    tendras que ir eligiendo entre puertas hasta lograr salir.\n",
      "    Que la suerte te acompañe!\n",
      "\n",
      "Sigue jugando\n"
     ]
    }
   ],
   "source": [
    "import random\n",
    "\n",
    "print(\"\"\"\n",
    "    En este juego trataremos de escapar de de la casa embrujada,\n",
    "    tendras que ir eligiendo entre puertas hasta lograr salir.\n",
    "    Que la suerte te acompañe!\n",
    "\"\"\")\n",
    "\n",
    "#Declaro variables\n",
    "puerta = str(input(\"Elige la puerta: 1 o 2\"))\n",
    "amuleto = random.choice([True, False])\n",
    "\n",
    "#Le digo al programa que hacer en cada caso dependiendo de la opcion que elija el jugador y dependiendo de la opcion random que tomo el programa para el amuleto usando if\n",
    "if puerta == \"1\":\n",
    "    print(\"Has perdido\")\n",
    "elif puerta == \"2\": \n",
    "    if amuleto == True:\n",
    "        print(\"Has ganado, pudiste escapar!\")\n",
    "    elif amuleto == False:\n",
    "        print(\"Sigue jugando\")\n",
    "else:\n",
    "    print(\"Sigue jugando\")\n",
    "        "
   ]
  },
  {
   "attachments": {},
   "cell_type": "markdown",
   "id": "11d90e03",
   "metadata": {},
   "source": [
    "#### Ejercicio 2\n",
    "\n",
    "Programa un diccionario vacío que se llame d.\n",
    "Añádele los siguientes claves y valores:\n",
    "\n",
    "\"id\" --> 1, \"hora\" --> \"mañana\", \"canciones_escuchadas\" --> una lista con 2 elementos que son \"canción1\" y \"canción2\"\n",
    "\n",
    "Imprime todas las claves, todos los valores y todos los pares clave-valor\n"
   ]
  },
  {
   "cell_type": "code",
   "execution_count": 67,
   "id": "f7c10c85",
   "metadata": {},
   "outputs": [
    {
     "name": "stdout",
     "output_type": "stream",
     "text": [
      "Claves: ['id', 'hora', 'canciones_escuchadas']\n",
      "Valores: [1, 'mañana', ['cancion1', 'cancion2']]\n",
      "Claves con sus valores: [('id', 1), ('hora', 'mañana'), ('canciones_escuchadas', ['cancion1', 'cancion2'])]\n"
     ]
    }
   ],
   "source": [
    "#Creo mi diccionario y le añado uno a uno las claves y sus valores\n",
    "d = {}\n",
    "d[\"id\"] = 1\n",
    "d[\"hora\"] = \"mañana\"\n",
    "d[\"canciones_escuchadas\"]= [\"cancion1\", \"cancion2\"]\n",
    "\n",
    "#Imprimo por la pantalla claves\n",
    "print(\"Claves:\", list(d.keys()))\n",
    "#Imprimo por la pantalla los valores de las claves\n",
    "print(\"Valores:\", list(d.values()))\n",
    "#Imprimo por la pantalla las claves con sus correspondientes valores\n",
    "print(\"Claves con sus valores:\", list(d.items()))"
   ]
  },
  {
   "attachments": {},
   "cell_type": "markdown",
   "id": "460a4229",
   "metadata": {},
   "source": [
    "\n",
    "#### Ejercicio 3\n",
    "\n",
    "Crea un programa que simule un carrusel infantil.\n",
    "\n",
    "El carrusel infantil tiene 3 posibles cochecitos: barco - bomberos - avioneta (una variable global de tipo lista, fuera de tu función).\n",
    "\n",
    "Debes escribir una **FUNCIÓN** llamada carrusel que tenga dos parámetros de entrada: el cochecito que eliges (puede valer el string barco, bomberos o avioneta) y un segundo parámetro llamado vueltas que es un entero.\n",
    "\n",
    "Tu función carrusel NO debe retornar nada, pero debe llamar internamente a coloca(cochecito), ya te lo doy programado. Si sientas al niño en \"avioneta\" y pones 3 vueltas, la función debería imprimir:\n",
    "\n",
    "\"vuelta 1: avioneta - barco - bomberos\"\n",
    "\n",
    "\"vuelta 2: avioneta - barco - bomberos\"\n",
    "\n",
    "\"vuelta 3: avioneta - barco - bomberos\"\n",
    "\n",
    "Se valorará positivamente que haya **UN BUCLE WHILE**.\n",
    "Si no te acaba de funcionar llamando a coloca(cochecito) tras un tiempo prudencial, escribe tu código sin usarlo."
   ]
  },
  {
   "cell_type": "code",
   "execution_count": 68,
   "id": "bcd8eef9",
   "metadata": {},
   "outputs": [
    {
     "name": "stdout",
     "output_type": "stream",
     "text": [
      "vuelta 1: bomberos \n",
      "vuelta 2: avioneta barco bomberos \n",
      "vuelta 3: barco bomberos \n",
      "vuelta 4: bomberos \n",
      "vuelta 5: avioneta barco bomberos \n",
      "vuelta 6: barco bomberos \n",
      "vuelta 7: bomberos \n"
     ]
    }
   ],
   "source": [
    "#Definimos nuestra lista de cochechitos fuera de la funcion\n",
    "lista_carrusel = [\"barco\", \"bomberos\", \"avioneta\"]\n",
    "\n",
    "#Funcion dada\n",
    "def coloca(cochecito):\n",
    "    if cochecito == \"barco\":\n",
    "        return lista_carrusel\n",
    "    elif cochecito == \"bomberos\" or cochecito == \"avioneta\":\n",
    "        elemento = lista_carrusel.pop(0)\n",
    "        lista_carrusel.append(elemento)\n",
    "    if cochecito == \"avioneta\":\n",
    "        elemento = lista_carrusel.pop(0)\n",
    "        lista_carrusel.append(elemento)\n",
    "    return lista_carrusel\n",
    "\n",
    "#Funcion creada que llama a la funcion anteriormente dada\n",
    "def carrusel(cochecito, vueltas):\n",
    "    i = 1\n",
    "    while i <= vueltas:\n",
    "        print(f\"vuelta {i}: \", end=\"\")\n",
    "        lista_carrusel = coloca(cochecito)\n",
    "        for c in lista_carrusel:\n",
    "            print(c, end=\" \")\n",
    "            if c == cochecito:\n",
    "                break\n",
    "        print()\n",
    "        i += 1\n",
    "\n",
    "#Llamamos a la funcion creada asignandole sus valores\n",
    "carrusel(\"bomberos\", 7)\n",
    "\n",
    "    "
   ]
  },
  {
   "attachments": {},
   "cell_type": "markdown",
   "id": "b387a519",
   "metadata": {},
   "source": [
    "\n",
    "#### Ejercicio 4\n",
    "Crea un programa que pida una contraseña por teclado e indique si es correcta\n",
    "o incorrecta con un print(). La contraseña correcta es “python”. Si la contraseña era incorrecta la pide de nuevo hasta 3 veces como máximo. Si al tercer intento no se acierta, debe ponerse a None y poner en un print() que la cuenta se ha bloqueado. Si se consigue entrar, se muestra que es correcta en un print(). Debe haber como mínimo un **BUCLE WHILE**\n"
   ]
  },
  {
   "cell_type": "code",
   "execution_count": 69,
   "id": "a528b115",
   "metadata": {},
   "outputs": [
    {
     "name": "stdout",
     "output_type": "stream",
     "text": [
      "Contrase incorrecta\n",
      "Te quedan 2 intentos\n",
      "Contrase incorrecta\n",
      "Te quedan 1 intentos\n",
      "Contraseña correcta\n"
     ]
    }
   ],
   "source": [
    "#Definimos variables\n",
    "cantidad_veces = 0\n",
    "intentos = 3\n",
    "contraseña = \"python\"\n",
    "\n",
    "#Creamos el bucle while dependendiendo si la contraseña es correcta o no, si no lo es le sumamos 1 a la cantidad de veces que intenta y le restamos 1 a los intentos\n",
    "while cantidad_veces < 3:\n",
    "    usuario = input(\"Escribe la contraseña\")\n",
    "    if usuario == contraseña:\n",
    "        print(\"Contraseña correcta\")\n",
    "        break\n",
    "    else:\n",
    "        print(\"Contrase incorrecta\")\n",
    "        cantidad_veces += 1\n",
    "        intentos -= 1\n",
    "        print(f\"Te quedan {intentos} intentos\")\n",
    "\n",
    "#Si la cantidad de veces que el usuario intento poner la contraseña es igual a 3 y las 3 veces la puso mal, su cuenta quedara bloqueada\n",
    "if cantidad_veces == 3:\n",
    "    usuario = None\n",
    "    print(\"Cuenta bloqueada\")"
   ]
  },
  {
   "attachments": {},
   "cell_type": "markdown",
   "id": "c0cbed17",
   "metadata": {},
   "source": [
    "#### Ejercicio 5\n",
    "Crea una clase Flor que instancia todos los atributos como parámetros del constructor.\n",
    "Atributos:\n",
    "\n",
    "nombre --> string que es el nombre de la flor\n",
    "\n",
    "venenosa --> un booleano que indica si es venenosa\n",
    "\n",
    "lista_viveros --> una lista de strings que son los viveros donde se puede comprar\n",
    "\n",
    "métodos de la clase:\n",
    "\n",
    "cantidad_de_viveros --> sin parámetros de entrada, devuelve un entero que es en cuántos sitios se puede comprar\n",
    "\n",
    "imprime_info --> con un parámetro de entrada que es un string llamado *nombre*, no devuelve ningún valor pero imprime el mensaje \"Hola *nombre*, la flor *flor* es/no es venenosa y se puede comprar en X viveros\"\n",
    "\n",
    "donde *nombre* es el parámetro de entrada, *flor* es el nombre de la flor, es/no es venenosa depende de la flor (tiene que estar ajustado a la flor) y X es el número de viveros donde se puede comprar.\n",
    "El constructor **DEBE** tener valores por defecto.\n",
    "\n",
    "Crea una flor por defecto e imprime su información.\n",
    "Nota: No te preocupes si la sintaxis no es perfecta.\n",
    "Esto es válido:\n",
    "\n",
    "Hola Alberto la flor rosa no es venenosa y se puede comprar en 1 viveros"
   ]
  },
  {
   "cell_type": "code",
   "execution_count": 56,
   "id": "6d8e782a",
   "metadata": {},
   "outputs": [
    {
     "name": "stdout",
     "output_type": "stream",
     "text": [
      "La flor Tulipan se puede comprar en 3 diferentes viveros\n"
     ]
    },
    {
     "data": {
      "text/plain": [
       "'Hola Alejo, la flor Tulipan no es venenosa y se puede comprar en 3 viveros'"
      ]
     },
     "execution_count": 56,
     "metadata": {},
     "output_type": "execute_result"
    }
   ],
   "source": [
    "#Creamos la clase Flor\n",
    "class Flor:\n",
    "    \n",
    "    #Todos los atributos que vengan vendran desde este constructor, en este caso tiene valores por defecto\n",
    "    def __init__(self, nombre = \"Tulipan\",  venenosa = False , lista_viveros = [\"San Anton\", \"San Mames\", \"Indautxu\"]):\n",
    "        self.nombre = nombre\n",
    "        self.venenosa = venenosa\n",
    "        self.lista_viveros = lista_viveros\n",
    "        \n",
    "    #Metodo para saber en cuantos viveros diferentes se puede comprar la flor especificada\n",
    "    def cantidad_de_viveros(self):\n",
    "        return \"La flor \" + self.nombre + \" se puede comprar en \" + str(len(self.lista_viveros)) + \" diferentes viveros\"\n",
    "    \n",
    "    #Metodo que devuelve nuestro nombre y nos dice si la flor es o no es venenosa y en cuantos viveros se la puede comprar\n",
    "    def imprime_info(self, nombre):\n",
    "        es_venenosa = \"es\" if self.venenosa else \"no es\"\n",
    "        return f\"Hola {nombre}, la flor {self.nombre} {es_venenosa} venenosa y se puede comprar en {str(len(self.lista_viveros))} viveros\"\n",
    "\n",
    "\n",
    "tulipan = Flor()\n",
    "print(tulipan.cantidad_de_viveros())\n",
    "tulipan.imprime_info(\"Alejo\")\n"
   ]
  },
  {
   "attachments": {},
   "cell_type": "markdown",
   "id": "abbb2218",
   "metadata": {},
   "source": [
    "#### Ejercicio 6\n",
    "\n",
    "Usando el map de programación funcional y la buit-in function reversed (como mínimo):\n",
    "\n",
    "Escribe un programa que recibe una lista de strings y devuelve una tupla con cada string dado la vuelta. **NO SE PUEDEN USAR BUCLES**\n",
    "\n",
    "Ejemplo:\n",
    "\n",
    "[\"hola\", \"adiós\"] --> (\"aloh\", \"sóida\")\n",
    "\n",
    "Pista: si yo fuera tú, usaría un método de los string que sirve para unir, ¡y usaría más de un map!"
   ]
  },
  {
   "cell_type": "code",
   "execution_count": 57,
   "id": "1eacf961",
   "metadata": {},
   "outputs": [
    {
     "name": "stdout",
     "output_type": "stream",
     "text": [
      "('somoS', 'o', 'on', '?somos')\n"
     ]
    }
   ],
   "source": [
    "#Creamos nuestra lista de palabras/strings\n",
    "listita = [\"Somos\",\"o\", \"no\", \"somos?\"]\n",
    "\n",
    "#Defino una funcion que me devuelva el iterable dado la vuelta\n",
    "def inversa(x):\n",
    "    return \"\".join(reversed(x))\n",
    "\n",
    "#Utilizo la funcion map donde los argumentos son la funcion y la lista anteriormente creados, los convierto en una tupla y guardo en una variable\n",
    "tupla1 = tuple(map(inversa, listita))\n",
    "print(tupla1)\n"
   ]
  },
  {
   "attachments": {},
   "cell_type": "markdown",
   "id": "c481d9aa",
   "metadata": {},
   "source": [
    "#### Ejercicio 7 (EXTRA - no puntúa, puedes hacer hasta donde llegues)\n",
    "\n",
    "Escribe un programa que trabaje con 3 listas:\n",
    "\n",
    "La lista ***grupo_musical*** contiene strings.\n",
    "\n",
    "La lista ***generos*** contiene strings.\n",
    "\n",
    "La lista ***anios*** puede contener un entero o tuplas.\n",
    "\n",
    "Ejemplo de datos:\n",
    "\n",
    ">\"ABBA\"\n",
    ">\n",
    ">\"pop\"\n",
    ">\n",
    ">(1972, 1982)\n",
    "\n",
    "Otro ejemplo:\n",
    "\n",
    ">\"Madonna\"\n",
    ">\n",
    ">\"pop\"\n",
    ">\n",
    ">1983\n",
    "\n",
    "Otro ejemplo:\n",
    "\n",
    ">\"Kölsch\"\n",
    ">\n",
    ">\"electronica\"\n",
    ">\n",
    ">1995\n",
    "\n",
    "Un grupo musical solo puede tener un género musical.\n",
    "Un grupo musical debe tener como mínimo un año de formación, que es un entero.\n",
    "Un grupo musical, si tuviese año de disolución, la información se guardaría en una tupla.\n",
    "\n",
    "Se pide implementar:\n",
    "\n",
    "a. Una función llamada *inserta* que acepte 4 parámetros (grupo, genero, comienzo, fin). El fin por defecto debe ser un objeto nulo. El grupo se inserta en la lista de grupos. El genero se inserta en la lista de géneros. El comienzo o comienzo y fin se inserta en la lista de años. La función no tiene valor retornado.\n",
    "\n",
    "b. Una función *busca_genero* con un parámetro de tipo string (genero) y devuelve una lista con todos los grupos de ese género.\n",
    "\n",
    "c. Una función *busca_grupos* con un parámetro booleano llamado *activos* con un valor por defecto verdadero. Cuando el valor es verdadero, devuelve solo los grupos activos en una lista. Cuando *activos* es falso, devuelve todos los grupos disueltos en una lista.\n",
    "\n",
    "d. Una función *busca_genero_indice* con un parámetro de tipo string (genero) que devuelve una lista con los índices donde se encuentra ese género.\n",
    "\n",
    "e. Una función *filtra_listas_genero* con un parámetro de tipo string (genero) que devuelve una tupla con las 3 listas filtradas y ***llame*** a busca_genero_indice\n",
    "\n",
    "f. Una función *anios_activos* que no tenga parámetros de entrada ni valor retornado que imprima línea a línea la información: grupo musical ---> años activos. Es decir: \n",
    "\n",
    ">ABBA ---> 10 años activos\n",
    ">\n",
    ">Madonna --> 40 años activos\n",
    ">\n",
    ">Kölsch --> 25 años activos\n",
    "\n",
    "\n",
    "Nota: si no te sale un apartado después de un tiempo prudencial, ¡pasa al siguiente!"
   ]
  },
  {
   "cell_type": "code",
   "execution_count": 83,
   "id": "fdefa65b",
   "metadata": {},
   "outputs": [
    {
     "name": "stdout",
     "output_type": "stream",
     "text": [
      "['Queen', 'Bomba Estereo', 'Raly Barrionuevo'] ['Rock', 'Musica alternativa', 'Folclore'] [(1970, 1983), 2005, 2000]\n",
      "Rock ['Queen']\n",
      "Musica alternativa ['Bomba Estereo']\n",
      "Folclore ['Raly Barrionuevo']\n",
      "[2]\n"
     ]
    }
   ],
   "source": [
    "grupo_musical =[]\n",
    "generos = []\n",
    "anios = []\n",
    "\n",
    "def inserta(grupo, genero, comienzo, fin=None):\n",
    "    grupo_musical.append(grupo)\n",
    "    generos.append(genero)\n",
    "    if fin is not None:\n",
    "        anios.append((comienzo, fin))\n",
    "    else:\n",
    "        anios.append(comienzo)\n",
    "\n",
    "def busca_genero(genero):\n",
    "    grupos = []\n",
    "    for i in range(len(generos)):\n",
    "        if generos[i] == genero:\n",
    "            grupos.append(grupo_musical[i])\n",
    "    return grupos\n",
    "\n",
    "def busca_genero_indice(genero):\n",
    "    indices = []\n",
    "    for i in range(len(generos)):\n",
    "        if generos[i] == genero:\n",
    "            indices.append(i)\n",
    "    return indices\n",
    "\n",
    "\n",
    "\n",
    "inserta(\"Queen\",\"Rock\", (1970,1983))\n",
    "inserta(\"Bomba Estereo\", \"Musica alternativa\", 2005)\n",
    "inserta(\"Raly Barrionuevo\", \"Folclore\", 2000)\n",
    "print(grupo_musical, generos, anios)\n",
    "\n",
    "print(\"Rock\", busca_genero(\"Rock\"))\n",
    "print(\"Musica alternativa\", busca_genero(\"Musica alternativa\"))\n",
    "print(\"Folclore\", busca_genero(\"Folclore\"))\n",
    "\n",
    "print(busca_genero_indice(\"Folclore\"))\n",
    "\n",
    "\n",
    "\n"
   ]
  },
  {
   "cell_type": "code",
   "execution_count": null,
   "id": "10a7b881",
   "metadata": {},
   "outputs": [],
   "source": [
    "# FIN DEL RAMP-UP\n",
    "\n",
    "%matplotlib inline\n",
    "from PIL import Image\n",
    "import requests\n",
    "from io import BytesIO\n",
    "\n",
    "url=R'https://estaticos.muyinteresante.es/media/cache/760x570_thumb/uploads/images/pyr/5cd405db5cafe829df48e212/funimation-1.jpg'\n",
    "\n",
    "\n",
    "response = requests.get(url)\n",
    "img = Image.open(BytesIO(response.content))\n",
    "\n",
    "img"
   ]
  }
 ],
 "metadata": {
  "kernelspec": {
   "display_name": "Python 3 (ipykernel)",
   "language": "python",
   "name": "python3"
  },
  "language_info": {
   "codemirror_mode": {
    "name": "ipython",
    "version": 3
   },
   "file_extension": ".py",
   "mimetype": "text/x-python",
   "name": "python",
   "nbconvert_exporter": "python",
   "pygments_lexer": "ipython3",
   "version": "3.11.3"
  },
  "vscode": {
   "interpreter": {
    "hash": "252189e587d1e2aeba4a06e91fa71896c7a7f6e22e918b9407c7cde4ef2d5985"
   }
  }
 },
 "nbformat": 4,
 "nbformat_minor": 5
}
