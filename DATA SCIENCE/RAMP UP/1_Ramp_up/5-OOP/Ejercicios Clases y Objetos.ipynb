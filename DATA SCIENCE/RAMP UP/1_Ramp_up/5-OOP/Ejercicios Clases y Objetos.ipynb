{
 "cells": [
  {
   "cell_type": "markdown",
   "metadata": {},
   "source": [
    "![imagen](./img/ejercicios.png)\n",
    "\n",
    "# Ejercicios Clases y Objetos"
   ]
  },
  {
   "cell_type": "markdown",
   "metadata": {},
   "source": [
    "## Ejercicio 1\n",
    "Somos una empresa que tiene varias tiendas de electrodomesticos. Necesitamos un programa para manejar las tiendas, ver las ventas que han tenido, cuántos empleados hay, etc... Para ello vamos a modelizar la tienda en una clase, que tendrá las siguientes características:\n",
    "* Nombre clase: \"Tienda\"\n",
    "* Atributos comunes:\n",
    "    * Tipo: \"Electrodomésticos\"\n",
    "    * Abierta: True\n",
    "* Atributos propios de cada tienda:\n",
    "    * Nombre - String\n",
    "    * Dirección - String\n",
    "    * Número de empleados - int\n",
    "    * Ventas ultimos 3 meses - Lista de 3 numeros\n",
    "* Método para calcular las ventas de todos los meses, que devuelva un numero con todas las ventas.\n",
    "* Método que calcula la media de ventas de los ultimos meses, por empleado\n",
    "* Método que devuelve en un string el nombre de la tienda, junto con su dirección.\n",
    "* Método que obtiene las ventas del último mes.\n",
    "* Método para dar una proyección de las ventas en caso de haber invertido X dinero en marketing en esa tienda. Siendo X el parámetro de entrada. Si X es menor de 1000, las ventas de los ultimos 3 meses hubiesen sido de (1.2 x ventas), si es mayor o igual de 1000, las ventas hubiesen sido de (1.5 x venta). El método reescribe el atributo de ventas en los últimos 3 meses, y además devuelve las ventas con el aumento.\n",
    "\n",
    "Se pide:\n",
    "1. Implementar la clase \"Tienda\"\n",
    "2. Crear tres tiendas con datos inventados\n",
    "3. Comprueba en al menos una de ellas, todo lo implementado en la clase tienda (sus atributos, media de ventas, ventas/empleado...)\n",
    "3. Calcular las ventas del último mes de todas las tiendas. Para ello usa el bucle `for`\n",
    "4. Imprime por pantalla los nombres de las tiendas cuya dirección lleve el string \"Avenida\"\n",
    "5. Seguro que ya has hecho este apartado... Documenta la clase :)"
   ]
  },
  {
   "cell_type": "code",
   "execution_count": 21,
   "metadata": {},
   "outputs": [
    {
     "name": "stdout",
     "output_type": "stream",
     "text": [
      "Cada empleado vendio una media de 4.6 productos este mes\n"
     ]
    }
   ],
   "source": [
    "class tienda():\n",
    "    tipo = \"electrodomestico\"\n",
    "    abierta = True\n",
    "\n",
    "    def __init__(self, nombre, direccion, empleados, ventas_ult3):\n",
    "        self.nombre = nombre\n",
    "        self.direccion = direccion\n",
    "        self.empleados = empleados\n",
    "        self.ventas_ult3 = ventas_ult3\n",
    "    \n",
    "    def sumventas(self):\n",
    "        return \"La tienda \" + self.nombre + \" vendio \" + str(sum(self.ventas_ult3))+ \" unidades este mes\"\n",
    "    def media(self):\n",
    "        return \"Cada empleado vendio una media de \" + str(sum(self.ventas_ult3)/self.empleados) + \" productos este mes\"\n",
    "    def nombre_dir(self):\n",
    "        return self.nombre + \"esta ubicada en\" + self.direccion\n",
    "    def ventas(self):\n",
    "        return self.ventas_ult3\n",
    "    \n",
    "\n",
    "Megatone = tienda(\"Megatone\",\"Calle Buenos Aires 54\", 25, [8, 63, 44])\n",
    "Fravega = tienda(\"Fravega\", \"Calle Somo 58\", 12, [9, 16, 41])\n",
    "LeroyMerlin = tienda(\"Leroy Merlin\", \"Calle España 66\", 64, [40, 28, 63])\n",
    "\n",
    "print(Megatone.media())\n",
    "\n"
   ]
  },
  {
   "cell_type": "code",
   "execution_count": 2,
   "metadata": {},
   "outputs": [
    {
     "name": "stdout",
     "output_type": "stream",
     "text": [
      "Electrodomesticos\n",
      "True\n",
      "mi tienda 1\n",
      "Avenida del electrodomestico\n",
      "3\n",
      "\n",
      "4500\n",
      "1500.0\n",
      "Nombre tienda: mi tienda 1\n",
      "Direccion: Avenida del electrodomestico\n",
      "1500\n",
      "[1500.0, 3000.0, 2250.0]\n"
     ]
    }
   ],
   "source": []
  },
  {
   "cell_type": "code",
   "execution_count": 3,
   "metadata": {},
   "outputs": [
    {
     "name": "stdout",
     "output_type": "stream",
     "text": [
      "15750.0\n",
      "mi tienda 1\n"
     ]
    }
   ],
   "source": []
  },
  {
   "cell_type": "markdown",
   "metadata": {},
   "source": [
    "## Ejercicio 2\n",
    "En este ejercicio vamos a implementar una clase *Perro* en Python. La clase tiene las siguientes características:\n",
    "* Cosas que sabemos seguro que tiene un perro\n",
    "    * Tiene 4 patas\n",
    "    * 2 orejas\n",
    "    * 2 ojos\n",
    "    * Una velocidad de 0. Por defecto, el perro está parado\n",
    "* Cuando se inicialice:\n",
    "    * El perro será de una determinada raza\n",
    "    * Por defecto tendrá pelo \"Marrón\", a no ser que se diga lo contrario.\n",
    "    * Por defecto no tendrá dueño, a no ser que se diga lo contrario.\n",
    "    \n",
    "* Dispondrá también de un método llamado andar, que tiene un argumento de entrada (aumento_velocidad). Este valor se le sumará a la velocidad que ya llevaba el perro.\n",
    "* Necesita otro método (parar), donde pondremos la velocidad a 0.\n",
    "* Otro método llamado \"ladrar\", que tendrá un argumento de entrada, y la salida será el siguiente string: \"GUAU!\" + el argumento de entrada.\n",
    "\n",
    "\n",
    "Se pide:\n",
    "* Implementa la clase *Perro*\n",
    "* Crea un objeto de tipo *Perro*, sin dueño\n",
    "* Comprueba que están bien todos sus atributos\n",
    "* Prueba que ande, y comprueba su velocidad\n",
    "* Páralo\n",
    "* Documenta la clase *Perro*"
   ]
  },
  {
   "cell_type": "code",
   "execution_count": 23,
   "metadata": {},
   "outputs": [
    {
     "name": "stdout",
     "output_type": "stream",
     "text": [
      "Golden Retriever\n",
      "Marrón\n",
      "False\n",
      "0\n",
      "5\n",
      "0\n",
      "GUAU! ¡Hola!\n"
     ]
    }
   ],
   "source": [
    "class Perro:\n",
    "    def __init__(self, raza, pelo=\"Marrón\", dueño=False):\n",
    "        self.raza = raza\n",
    "        self.pelo = pelo\n",
    "        self.dueño = dueño\n",
    "        self.velocidad = 0\n",
    "\n",
    "    def andar(self, aumento_velocidad):\n",
    "        self.velocidad += aumento_velocidad\n",
    "\n",
    "    def parar(self):\n",
    "        self.velocidad = 0\n",
    "\n",
    "    def ladrar(self, argumento):\n",
    "        return \"GUAU! \" + argumento\n",
    "    \n",
    "mi_perro = Perro(\"Golden Retriever\")\n",
    "\n",
    "print(mi_perro.raza)  # Debería imprimir \"Golden Retriever\"\n",
    "print(mi_perro.pelo)  # Debería imprimir \"Marrón\"\n",
    "print(mi_perro.dueño)  # Debería imprimir \"None\"\n",
    "print(mi_perro.velocidad)  # Debería imprimir \"0\"\n",
    "\n",
    "# Probar el método andar\n",
    "mi_perro.andar(5)\n",
    "print(mi_perro.velocidad)  # Debería imprimir \"5\"\n",
    "\n",
    "# Probar el método parar\n",
    "mi_perro.parar()\n",
    "print(mi_perro.velocidad)  # Debería imprimir \"0\"\n",
    "\n",
    "# Probar el método ladrar\n",
    "print(mi_perro.ladrar(\"¡Hola!\"))  # Debería imprimir \"GUAU! ¡Hola!\""
   ]
  },
  {
   "cell_type": "code",
   "execution_count": 6,
   "metadata": {},
   "outputs": [
    {
     "name": "stdout",
     "output_type": "stream",
     "text": [
      "San Bernardo\n",
      "Marron\n",
      "None\n",
      "0\n",
      "2\n",
      "4\n",
      "0\n"
     ]
    },
    {
     "data": {
      "text/plain": [
       "'GUAU!, quiero comer'"
      ]
     },
     "execution_count": 6,
     "metadata": {},
     "output_type": "execute_result"
    }
   ],
   "source": []
  }
 ],
 "metadata": {
  "kernelspec": {
   "display_name": "Python 3 (ipykernel)",
   "language": "python",
   "name": "python3"
  },
  "language_info": {
   "codemirror_mode": {
    "name": "ipython",
    "version": 3
   },
   "file_extension": ".py",
   "mimetype": "text/x-python",
   "name": "python",
   "nbconvert_exporter": "python",
   "pygments_lexer": "ipython3",
   "version": "3.11.3"
  },
  "vscode": {
   "interpreter": {
    "hash": "252189e587d1e2aeba4a06e91fa71896c7a7f6e22e918b9407c7cde4ef2d5985"
   }
  }
 },
 "nbformat": 4,
 "nbformat_minor": 4
}
