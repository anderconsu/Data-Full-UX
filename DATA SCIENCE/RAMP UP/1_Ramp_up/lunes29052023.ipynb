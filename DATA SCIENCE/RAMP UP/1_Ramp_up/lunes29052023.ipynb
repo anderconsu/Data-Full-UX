{
 "cells": [
  {
   "cell_type": "code",
   "execution_count": 2,
   "metadata": {},
   "outputs": [
    {
     "ename": "TypeError",
     "evalue": "divide() missing 2 required positional arguments: 'num1' and 'num2'",
     "output_type": "error",
     "traceback": [
      "\u001b[1;31m---------------------------------------------------------------------------\u001b[0m",
      "\u001b[1;31mTypeError\u001b[0m                                 Traceback (most recent call last)",
      "Cell \u001b[1;32mIn[2], line 6\u001b[0m\n\u001b[0;32m      3\u001b[0m \u001b[39mdef\u001b[39;00m \u001b[39mdivide\u001b[39m(num1, num2):\n\u001b[0;32m      4\u001b[0m     \u001b[39mreturn\u001b[39;00m num1\u001b[39m/\u001b[39mnum2\n\u001b[1;32m----> 6\u001b[0m divide()\n",
      "\u001b[1;31mTypeError\u001b[0m: divide() missing 2 required positional arguments: 'num1' and 'num2'"
     ]
    }
   ],
   "source": [
    "# 1. si yo hago una función, ¿qué errores puede dar?\n",
    "\n",
    "def divide(num1, num2):\n",
    "    return num1/num2\n",
    "\n",
    "divide()"
   ]
  },
  {
   "cell_type": "code",
   "execution_count": 3,
   "id": "2b14c64f",
   "metadata": {},
   "outputs": [
    {
     "ename": "ZeroDivisionError",
     "evalue": "division by zero",
     "output_type": "error",
     "traceback": [
      "\u001b[1;31m---------------------------------------------------------------------------\u001b[0m",
      "\u001b[1;31mZeroDivisionError\u001b[0m                         Traceback (most recent call last)",
      "Cell \u001b[1;32mIn[3], line 1\u001b[0m\n\u001b[1;32m----> 1\u001b[0m divide(\u001b[39m5\u001b[39;49m,\u001b[39m0\u001b[39;49m)\n",
      "Cell \u001b[1;32mIn[2], line 4\u001b[0m, in \u001b[0;36mdivide\u001b[1;34m(num1, num2)\u001b[0m\n\u001b[0;32m      3\u001b[0m \u001b[39mdef\u001b[39;00m \u001b[39mdivide\u001b[39m(num1, num2):\n\u001b[1;32m----> 4\u001b[0m     \u001b[39mreturn\u001b[39;00m num1\u001b[39m/\u001b[39;49mnum2\n",
      "\u001b[1;31mZeroDivisionError\u001b[0m: division by zero"
     ]
    }
   ],
   "source": [
    "divide(5,0)"
   ]
  },
  {
   "cell_type": "code",
   "execution_count": 4,
   "id": "1b8e47be",
   "metadata": {},
   "outputs": [
    {
     "ename": "TypeError",
     "evalue": "unsupported operand type(s) for /: 'list' and 'bool'",
     "output_type": "error",
     "traceback": [
      "\u001b[1;31m---------------------------------------------------------------------------\u001b[0m",
      "\u001b[1;31mTypeError\u001b[0m                                 Traceback (most recent call last)",
      "Cell \u001b[1;32mIn[4], line 1\u001b[0m\n\u001b[1;32m----> 1\u001b[0m divide([\u001b[39m1\u001b[39;49m,\u001b[39m2\u001b[39;49m,\u001b[39m3\u001b[39;49m], \u001b[39mTrue\u001b[39;49;00m)\n",
      "Cell \u001b[1;32mIn[2], line 4\u001b[0m, in \u001b[0;36mdivide\u001b[1;34m(num1, num2)\u001b[0m\n\u001b[0;32m      3\u001b[0m \u001b[39mdef\u001b[39;00m \u001b[39mdivide\u001b[39m(num1, num2):\n\u001b[1;32m----> 4\u001b[0m     \u001b[39mreturn\u001b[39;00m num1\u001b[39m/\u001b[39;49mnum2\n",
      "\u001b[1;31mTypeError\u001b[0m: unsupported operand type(s) for /: 'list' and 'bool'"
     ]
    }
   ],
   "source": [
    "divide([1,2,3], True)"
   ]
  },
  {
   "cell_type": "code",
   "execution_count": 24,
   "id": "a0befc93",
   "metadata": {},
   "outputs": [
    {
     "ename": "SyntaxError",
     "evalue": "non-default argument follows default argument (1771689336.py, line 1)",
     "output_type": "error",
     "traceback": [
      "\u001b[1;36m  Cell \u001b[1;32mIn[24], line 1\u001b[1;36m\u001b[0m\n\u001b[1;33m    def divide(num1 = 1, num2):\u001b[0m\n\u001b[1;37m                         ^\u001b[0m\n\u001b[1;31mSyntaxError\u001b[0m\u001b[1;31m:\u001b[0m non-default argument follows default argument\n"
     ]
    }
   ],
   "source": [
    "def divide(num1 , num2 = 1):\n",
    "    if type(num1) != int and type(num2) != int:\n",
    "        return \"numeros no enteros\"\n",
    "    elif num2 == 0:\n",
    "        return \"denominador igual a cero\"\n",
    "    else:\n",
    "        try:\n",
    "            resultado = num1/num2\n",
    "            return resultado\n",
    "        except:\n",
    "            return \"ha habido un error\"\n",
    "        \n",
    "print(divide(6.0, 3.0))\n",
    "        \n",
    "print(divide(\"hola\", 8))\n",
    "print(divide(3,0))\n",
    "print(divide(6,2))\n",
    "\n",
    "\n",
    "print(divide())\n",
    "\n",
    "try:\n",
    "    divide(1,2,3,4)\n",
    "except:\n",
    "    print(\"lalala\")\n",
    "\n",
    "print(divide(num2 = 0.5))\n",
    "\n"
   ]
  },
  {
   "cell_type": "code",
   "execution_count": 23,
   "id": "5e372719",
   "metadata": {},
   "outputs": [
    {
     "data": {
      "text/plain": [
       "3.0"
      ]
     },
     "execution_count": 23,
     "metadata": {},
     "output_type": "execute_result"
    }
   ],
   "source": [
    "divide(num1 = 3)\n"
   ]
  },
  {
   "cell_type": "code",
   "execution_count": 19,
   "id": "04712ef0",
   "metadata": {},
   "outputs": [
    {
     "name": "stdout",
     "output_type": "stream",
     "text": [
      "\n",
      "hola\n"
     ]
    }
   ],
   "source": [
    "print() # print(\"\", sep=\" \", end= \"\\n\")\n",
    "print(\"hola\") # print(\"hola\", sep=\" \", end= \"\\n\")"
   ]
  },
  {
   "cell_type": "code",
   "execution_count": 18,
   "id": "816bca74",
   "metadata": {},
   "outputs": [
    {
     "data": {
      "text/plain": [
       "'ha habido un error'"
      ]
     },
     "execution_count": 18,
     "metadata": {},
     "output_type": "execute_result"
    }
   ],
   "source": [
    "divide(None)"
   ]
  },
  {
   "cell_type": "code",
   "execution_count": 13,
   "id": "6aa682b0",
   "metadata": {},
   "outputs": [
    {
     "data": {
      "text/plain": [
       "NoneType"
      ]
     },
     "execution_count": 13,
     "metadata": {},
     "output_type": "execute_result"
    }
   ],
   "source": [
    "type(None)"
   ]
  },
  {
   "cell_type": "code",
   "execution_count": 1,
   "id": "31f858a9",
   "metadata": {},
   "outputs": [
    {
     "data": {
      "text/plain": [
       "2"
      ]
     },
     "execution_count": 1,
     "metadata": {},
     "output_type": "execute_result"
    }
   ],
   "source": [
    "1+1"
   ]
  },
  {
   "cell_type": "code",
   "execution_count": 25,
   "id": "5dbcb63f",
   "metadata": {},
   "outputs": [
    {
     "name": "stdout",
     "output_type": "stream",
     "text": [
      "Alberto\n",
      "ALBERTO\n"
     ]
    }
   ],
   "source": [
    "nombre = \"Alberto\"\n",
    "resultado = nombre.upper()\n",
    "print(nombre)\n",
    "print(resultado)"
   ]
  },
  {
   "cell_type": "code",
   "execution_count": null,
   "id": "48c1369a",
   "metadata": {},
   "outputs": [],
   "source": [
    "resultado = 7 + 2"
   ]
  },
  {
   "cell_type": "code",
   "execution_count": null,
   "id": "4e4e8d25",
   "metadata": {},
   "outputs": [],
   "source": [
    "nombre = True"
   ]
  },
  {
   "cell_type": "code",
   "execution_count": 28,
   "id": "000f3fc5",
   "metadata": {},
   "outputs": [
    {
     "name": "stdout",
     "output_type": "stream",
     "text": [
      "rojo\n"
     ]
    }
   ],
   "source": [
    "numero = 7\n",
    "\n",
    "def color():\n",
    "    color = \"rojo\"\n",
    "    return color\n",
    "\n",
    "print(color())"
   ]
  },
  {
   "cell_type": "code",
   "execution_count": 39,
   "id": "11337405",
   "metadata": {},
   "outputs": [
    {
     "name": "stdout",
     "output_type": "stream",
     "text": [
      "[2]\n",
      "(1, 2, 3, 4, 5, 6)\n",
      "6\n"
     ]
    }
   ],
   "source": [
    "mi_lista = []\n",
    "mi_lista.append(2)\n",
    "print(mi_lista)\n",
    "\n",
    "tupla_nueva = (1,2,3) + (4,5,6)\n",
    "print(tupla_nueva)\n",
    "\n",
    "mi_tupla = (1,2,3,[])\n",
    "\n",
    "\n",
    "#mi_tupla[0] = \"lalala\"  # da error porque las tuplas no se pueden modificar\n",
    "\n",
    "print(mi_tupla[0] + 5)  # 1 + 5\n",
    "\n",
    "mi_tupla[3].append(\"¡sorpresa!\")\n",
    "\n",
    "# tengo una tupla de 4 objetos\n",
    "# objeto0 1\n",
    "# objeto1 2 \n",
    "# objeto2 3\n",
    "# objeto3 [].append(2)\n",
    "\n",
    "\n"
   ]
  },
  {
   "cell_type": "code",
   "execution_count": 40,
   "id": "f036fc8c",
   "metadata": {},
   "outputs": [
    {
     "data": {
      "text/plain": [
       "(1, 2, 3, 4)"
      ]
     },
     "execution_count": 40,
     "metadata": {},
     "output_type": "execute_result"
    }
   ],
   "source": [
    "(1,2,3) + (4,)"
   ]
  },
  {
   "cell_type": "code",
   "execution_count": 44,
   "id": "99a6a79e",
   "metadata": {},
   "outputs": [
    {
     "name": "stdout",
     "output_type": "stream",
     "text": [
      "HolaQue\n",
      "Holatal\n",
      "amigoQue\n",
      "amigotal\n",
      "['Hola Que', 'Hola tal', 'amigo Que', 'amigo tal']\n"
     ]
    }
   ],
   "source": [
    "ejer_3_1 = [\"Hola\", \"amigo\"]\n",
    "ejer_3_2 = [\"Que\", \"tal\"]\n",
    "\n",
    "resultado = []\n",
    "\n",
    "for i in ejer_3_1:  # [\"Hola\", \"amigo\"]\n",
    "    for x in ejer_3_2: #[\"Que\", \"tal\"]\n",
    "        print(i + x)\n",
    "        resultado.append(i + \" \" + x)\n",
    "\n",
    "print(resultado)"
   ]
  },
  {
   "cell_type": "code",
   "execution_count": 59,
   "id": "a492d932",
   "metadata": {},
   "outputs": [
    {
     "data": {
      "text/plain": [
       "['3', 'hola']"
      ]
     },
     "execution_count": 59,
     "metadata": {},
     "output_type": "execute_result"
    }
   ],
   "source": [
    "sorted([\"hola\", \"adiós\"])\n",
    "sorted([True, False])\n",
    "sorted([str(3),\"hola\"])\n"
   ]
  },
  {
   "cell_type": "code",
   "execution_count": 51,
   "id": "df5af44c",
   "metadata": {},
   "outputs": [
    {
     "data": {
      "text/plain": [
       "97"
      ]
     },
     "execution_count": 51,
     "metadata": {},
     "output_type": "execute_result"
    }
   ],
   "source": [
    "ord(\"a\")"
   ]
  },
  {
   "cell_type": "code",
   "execution_count": 52,
   "id": "29ab00c0",
   "metadata": {},
   "outputs": [
    {
     "data": {
      "text/plain": [
       "'a'"
      ]
     },
     "execution_count": 52,
     "metadata": {},
     "output_type": "execute_result"
    }
   ],
   "source": [
    "chr(97)"
   ]
  },
  {
   "cell_type": "code",
   "execution_count": 63,
   "id": "24755af1",
   "metadata": {},
   "outputs": [
    {
     "data": {
      "text/plain": [
       "1"
      ]
     },
     "execution_count": 63,
     "metadata": {},
     "output_type": "execute_result"
    }
   ],
   "source": [
    "len({\"color\": \"rojo\"})"
   ]
  },
  {
   "cell_type": "code",
   "execution_count": 66,
   "id": "f5b67ab7",
   "metadata": {},
   "outputs": [
    {
     "name": "stdout",
     "output_type": "stream",
     "text": [
      "(1, 2, 3)\n",
      "[1, 2, 3, 4]\n"
     ]
    }
   ],
   "source": [
    "mi_tupla = (1,2,3)\n",
    "mi_lista = list(mi_tupla)\n",
    "mi_lista.append(4)\n",
    "\n",
    "print(mi_tupla)\n",
    "print(mi_lista)\n",
    "\n",
    "mi_tupla = tuple(mi_lista)"
   ]
  },
  {
   "cell_type": "code",
   "execution_count": 71,
   "id": "08eba993",
   "metadata": {},
   "outputs": [
    {
     "name": "stdout",
     "output_type": "stream",
     "text": [
      "burguerxlechugaxpan\n"
     ]
    }
   ],
   "source": [
    "# funciones\n",
    "'''\n",
    "def arbpalabras (listpalabras): # 1 string como argumento\n",
    "    frase=listpalabras.replace(\",\",\" \").replace(\", \",\" \")\n",
    "    return frase\n",
    "\n",
    "print(arbpalabras(\"burguer,lechuga,pan\"))\n",
    "'''\n",
    "\n",
    "\n",
    "'''\n",
    "def arbpalabras1 (*listpalabras1): #varias strings como argumentos\n",
    "    frase=\"\"\n",
    "    for palabra in listpalabras1:\n",
    "        frase= frase + palabra + \" \"\n",
    "    return frase[:-1]\n",
    "\n",
    "print(arbpalabras1(\"burguer\",\"lechuga\",\"pan\"))\n",
    "'''\n",
    "\n",
    "\n",
    "def arbpalabras1 (*listpalabras1): #Varias variables no definidas como argumentos??\n",
    "    palabra=\"\"\n",
    "    for palabra in listpalabras1:\n",
    "        frase= frase + palabra + \" \"\n",
    "    return frase\n",
    "\n",
    "\n",
    "burguer = input(\"menú de hamburguesería\")\n",
    "lechuga = input(\"tipo de lechuga\")\n",
    "pan= input(\"tipo de pan\")\n",
    "\n",
    "def tipo_de_pan():\n",
    "    pan = input(\"¿qué pan quiere usted?: \")\n",
    "    return pan\n",
    "\n",
    "pan = tipo_de_pan()\n",
    "\n",
    "print(arbpalabras1(burguer,lechuga,pan))\n"
   ]
  },
  {
   "cell_type": "code",
   "execution_count": 76,
   "id": "db79d59e",
   "metadata": {},
   "outputs": [],
   "source": [
    "saludo = 2 + 2\n",
    "del saludo"
   ]
  },
  {
   "cell_type": "code",
   "execution_count": 77,
   "id": "db70056d",
   "metadata": {},
   "outputs": [
    {
     "data": {
      "text/plain": [
       "[1, 2, 3]"
      ]
     },
     "execution_count": 77,
     "metadata": {},
     "output_type": "execute_result"
    }
   ],
   "source": [
    "list((1,2,3))"
   ]
  },
  {
   "cell_type": "code",
   "execution_count": null,
   "id": "03e71970",
   "metadata": {},
   "outputs": [],
   "source": [
    "mi_lista = \"hola\"\n",
    "\n",
    "list((1,2,3)) # \"hola\"(1,2,3)\n",
    "\n",
    "# list, str, bool, tuple, dict, set, int, float, \n",
    "\n",
    "str = 7\n",
    "str(8)"
   ]
  },
  {
   "cell_type": "code",
   "execution_count": 78,
   "id": "3aa68e5f",
   "metadata": {},
   "outputs": [
    {
     "data": {
      "text/plain": [
       "<function print(*args, sep=' ', end='\\n', file=None, flush=False)>"
      ]
     },
     "execution_count": 78,
     "metadata": {},
     "output_type": "execute_result"
    }
   ],
   "source": [
    "print"
   ]
  },
  {
   "cell_type": "code",
   "execution_count": null,
   "id": "bfdfbcd5",
   "metadata": {},
   "outputs": [],
   "source": [
    "mi_lista_bonita"
   ]
  },
  {
   "cell_type": "code",
   "execution_count": 79,
   "id": "06ca9cb9",
   "metadata": {},
   "outputs": [
    {
     "name": "stdout",
     "output_type": "stream",
     "text": [
      "\n"
     ]
    }
   ],
   "source": [
    "print()"
   ]
  },
  {
   "cell_type": "code",
   "execution_count": 81,
   "id": "856e6253",
   "metadata": {},
   "outputs": [
    {
     "data": {
      "text/plain": [
       "{'nombre': 'Alberto', 'alumnos': 15, 'aprobados': True}"
      ]
     },
     "execution_count": 81,
     "metadata": {},
     "output_type": "execute_result"
    }
   ],
   "source": [
    "dict() # [(clave, valor)  (clave, valor), (clave, valor)]\n",
    "\n",
    "mi_lista_de_tuplas = [(\"nombre\", \"Alberto\"), (\"alumnos\", 15), (\"aprobados\", True)]\n",
    "\n",
    "dict(mi_lista_de_tuplas)"
   ]
  },
  {
   "cell_type": "code",
   "execution_count": 82,
   "id": "88689a65",
   "metadata": {},
   "outputs": [
    {
     "data": {
      "text/plain": [
       "{0: 'Bilbao', 1: 'Valencia', 2: 'Madrid'}"
      ]
     },
     "execution_count": 82,
     "metadata": {},
     "output_type": "execute_result"
    }
   ],
   "source": [
    "ciudades = [\"Bilbao\", \"Valencia\", \"Madrid\"]\n",
    "mi_lista = []\n",
    "for mi_tupla in enumerate(ciudades):\n",
    "    mi_lista.append(mi_tupla)\n",
    "\n",
    "dict(mi_lista)\n"
   ]
  },
  {
   "cell_type": "code",
   "execution_count": 83,
   "id": "d64f922f",
   "metadata": {},
   "outputs": [
    {
     "data": {
      "text/plain": [
       "['Alberto', 'Romero']"
      ]
     },
     "execution_count": 83,
     "metadata": {},
     "output_type": "execute_result"
    }
   ],
   "source": [
    "def de_diccionario_a_lista(mi_diccionario):\n",
    "    # quiero devolver [valor, valor, valor...]\n",
    "    objeto_retornado = mi_diccionario.values()\n",
    "    return list(objeto_retornado)\n",
    "\n",
    "de_diccionario_a_lista({\"nombre\": \"Alberto\", \"apellido\": \"Romero\"})"
   ]
  },
  {
   "cell_type": "code",
   "execution_count": 86,
   "id": "57c4f2c3",
   "metadata": {},
   "outputs": [
    {
     "data": {
      "text/plain": [
       "24"
      ]
     },
     "execution_count": 86,
     "metadata": {},
     "output_type": "execute_result"
    }
   ],
   "source": [
    "# factorial\n",
    "# 0! = 1\n",
    "# 1! = 1 x 0! = 1 x 1 = 1\n",
    "# 2! = 2 x 1!\n",
    "# 3! = 3 x 2!\n",
    "# 4! = 4 x 3! = 4 x 3 x 2 x 1\n",
    "\n",
    "# no recursivo\n",
    "def fact_no_recursivo(num):\n",
    "    resultado = 1\n",
    "    for x in range(num):\n",
    "        resultado = resultado * (x+1)\n",
    "    return resultado\n",
    "\n",
    "fact_no_recursivo(4)\n",
    "\n",
    "def factorial_recursivo(num):\n",
    "    if num == 0:\n",
    "        return 1\n",
    "    else:\n",
    "        return num * factorial_recursivo(num-1)\n",
    "    \n",
    "factorial_recursivo(4)\n",
    "\n",
    "\n"
   ]
  },
  {
   "cell_type": "code",
   "execution_count": null,
   "id": "d50fa05c",
   "metadata": {},
   "outputs": [],
   "source": [
    "# print y funciones\n",
    "\n",
    "def suma_numeros(num1, num2):\n",
    "    print(num1)\n",
    "    print(num2)\n",
    "    print(num1+num2)\n",
    "    #return None\n",
    "    return num1 + num2 \n",
    "\n",
    "# input --> procesado --> valor_retornado\n",
    "# input: vacío, 1 objeto, 2 objetos, tantos como yo quiera (* o **)\n",
    "\n",
    "valor_retornado = suma_numeros(1,3)\n",
    "suma_numeros(1,3)\n",
    "\n",
    "print(mi_lista.append(8)) # print(None)\n",
    "print(mi_lista)\n",
    "\n",
    "resultado = suma_numeros(1,3)\n",
    "\n"
   ]
  },
  {
   "cell_type": "code",
   "execution_count": 96,
   "id": "702d2569",
   "metadata": {},
   "outputs": [],
   "source": [
    "mi_lista = []"
   ]
  },
  {
   "cell_type": "code",
   "execution_count": 99,
   "id": "b01dba36",
   "metadata": {},
   "outputs": [],
   "source": [
    "\n",
    "\n",
    "\n",
    "def en_lista(lista = [], comando = \"add\", elementos=None):\n",
    "  if comando == \"add\":\n",
    "    lista.append(elementos)\n",
    "  elif comando == \"remove\" and len(lista) > 0:\n",
    "    lista.pop(0)\n",
    "  return lista\n",
    "\n",
    "\n"
   ]
  },
  {
   "cell_type": "code",
   "execution_count": 101,
   "id": "e6779171",
   "metadata": {},
   "outputs": [
    {
     "name": "stdout",
     "output_type": "stream",
     "text": [
      "[5, 2]\n",
      "[5, 2, 5]\n",
      "[2, 5]\n"
     ]
    }
   ],
   "source": [
    "print(en_lista(lista, \"add\", 2))\n",
    "print(en_lista(lista, \"add\", 5))\n",
    "print(en_lista(lista, \"remove\"))"
   ]
  },
  {
   "cell_type": "code",
   "execution_count": 102,
   "id": "e1e89d91",
   "metadata": {},
   "outputs": [
    {
     "data": {
      "text/plain": [
       "[2, 5]"
      ]
     },
     "execution_count": 102,
     "metadata": {},
     "output_type": "execute_result"
    }
   ],
   "source": [
    "lista"
   ]
  },
  {
   "cell_type": "code",
   "execution_count": 94,
   "id": "b7690ac0",
   "metadata": {},
   "outputs": [
    {
     "name": "stdout",
     "output_type": "stream",
     "text": [
      "[4]\n",
      "[4, 3]\n",
      "[3]\n",
      "[3, 2]\n",
      "[2]\n"
     ]
    }
   ],
   "source": [
    "#print(en_lista(lista, \"remove\"))\n",
    "print(en_lista(lista, \"add\", 4))\n",
    "print(en_lista(lista, \"add\", 3))\n",
    "print(en_lista(lista, \"remove\"))\n",
    "print(en_lista(lista, \"add\", 2))\n",
    "print(en_lista(lista, \"remove\", 4))"
   ]
  },
  {
   "cell_type": "code",
   "execution_count": 95,
   "id": "b321cdc9",
   "metadata": {},
   "outputs": [
    {
     "name": "stdout",
     "output_type": "stream",
     "text": [
      "[2, 4, 3]\n",
      "[4, 3]\n",
      "[4, 3, 2]\n",
      "[3, 2]\n"
     ]
    }
   ],
   "source": [
    "en_lista(lista, \"add\", 4)\n",
    "print(en_lista(lista, \"add\", 3))\n",
    "print(en_lista(lista, \"remove\"))\n",
    "print(en_lista(lista, \"add\", 2))\n",
    "print(en_lista(lista, \"remove\", 4))"
   ]
  },
  {
   "cell_type": "code",
   "execution_count": 89,
   "id": "afec1529",
   "metadata": {},
   "outputs": [
    {
     "data": {
      "text/plain": [
       "[4, 4]"
      ]
     },
     "execution_count": 89,
     "metadata": {},
     "output_type": "execute_result"
    }
   ],
   "source": [
    "en_lista(lista, \"add\", 4)"
   ]
  },
  {
   "cell_type": "code",
   "execution_count": 122,
   "id": "d67c0673",
   "metadata": {},
   "outputs": [
    {
     "name": "stdout",
     "output_type": "stream",
     "text": [
      "Hola Alberto\n",
      "ruedas 4 garajes [] color verde\n",
      "¿Tiene motor? No tiene motor\n"
     ]
    }
   ],
   "source": [
    "class Coche:\n",
    "    ruedas = 4\n",
    "    lista_garajes = []\n",
    "\n",
    "    def __init__(self, color, num_ventanas = 8, motor=True):\n",
    "        self.color = color\n",
    "        self.ventanas = num_ventanas\n",
    "        self.motor =motor\n",
    "\n",
    "    def caracteristicas(self):\n",
    "        print(\"ruedas \" + str(self.ruedas) +\n",
    "               \" garajes \" + str(self.lista_garajes) + \" color \" + self.color)\n",
    "        \n",
    "    def con_motor(self):\n",
    "        if self.motor:\n",
    "            return \"Tiene motor\"\n",
    "        else:\n",
    "            return \"No tiene motor\"\n",
    "    \n",
    "    def imprime_con_motor(self, nombre):\n",
    "        print(\"Hola\", nombre)\n",
    "        self.caracteristicas()\n",
    "        print(\"¿Tiene motor?\", self.con_motor())\n",
    "    \n",
    "    def anade_garaje(self, garaje):\n",
    "        self.lista_garajes.append(garaje)\n",
    "        return self.lista_garajes\n",
    "        \n",
    "coche2 = Coche(color = \"verde\", motor = False)\n",
    "coche2.imprime_con_motor(\"Alberto\")\n",
    "        \n",
    "\n",
    "\n"
   ]
  },
  {
   "cell_type": "code",
   "execution_count": 120,
   "id": "61ba6849",
   "metadata": {},
   "outputs": [
    {
     "name": "stdout",
     "output_type": "stream",
     "text": [
      "ruedas 4 garajes [] color amarillo\n"
     ]
    }
   ],
   "source": [
    "coche1 = Coche(\"amarillo\")\n",
    "coche1.caracteristicas()"
   ]
  },
  {
   "cell_type": "code",
   "execution_count": 115,
   "id": "197f35f2",
   "metadata": {},
   "outputs": [
    {
     "data": {
      "text/plain": [
       "True"
      ]
     },
     "execution_count": 115,
     "metadata": {},
     "output_type": "execute_result"
    }
   ],
   "source": [
    "coche1.motor"
   ]
  },
  {
   "cell_type": "code",
   "execution_count": 106,
   "id": "a1d57e89",
   "metadata": {},
   "outputs": [
    {
     "data": {
      "text/plain": [
       "10"
      ]
     },
     "execution_count": 106,
     "metadata": {},
     "output_type": "execute_result"
    }
   ],
   "source": [
    "(2 + 3 +\n",
    "5)\n",
    "2 + 3 +\\\n",
    "5\n",
    "# esto es partir una línea y seguir en la siguiente \"siendo la misma\"\n",
    "# \"\\\\n\"\n",
    "\n",
    "\n"
   ]
  },
  {
   "cell_type": "code",
   "execution_count": 129,
   "id": "9c985a5f",
   "metadata": {},
   "outputs": [
    {
     "name": "stdout",
     "output_type": "stream",
     "text": [
      "Hola lalala\n",
      "1\n",
      "2\n",
      "3\n",
      "4\n",
      "5\n",
      "6\n",
      "7\n",
      "8\n",
      "9\n",
      "45\n"
     ]
    }
   ],
   "source": [
    "# funciones con una cantidad de parámetros indefinida\n",
    "# * --> tuplas\n",
    "# ** --> diccionarios\n",
    "\n",
    "def suma(*args, nombre = \"Alberto\"):\n",
    "    print(\"Hola\", nombre)\n",
    "    for x in args:\n",
    "        print(x)\n",
    "    return sum(args)\n",
    "\n",
    "valor_retornado = suma(1,2,3,4,5,6,7,8,9, nombre=\"lalala\")\n",
    "print(valor_retornado)"
   ]
  },
  {
   "cell_type": "code",
   "execution_count": 131,
   "id": "156c4062",
   "metadata": {},
   "outputs": [
    {
     "name": "stdout",
     "output_type": "stream",
     "text": [
      "volumen 2\n",
      "temperatura 5\n",
      "densidad 7\n",
      "Alberto John \n"
     ]
    }
   ],
   "source": [
    "def suma(*args, **kwargs):\n",
    "    # kwargs es un diccionario\n",
    "    suma = 0\n",
    "    for clave in kwargs:\n",
    "        print(clave, kwargs[clave])\n",
    "        suma = suma + kwargs[clave]\n",
    "\n",
    "    for x in args:\n",
    "        print(x, end=\" \")\n",
    "    print()\n",
    "    return suma\n",
    "\n",
    "resultado = suma(\"Alberto\", \"John\", volumen = 2, temperatura = 5, densidad = 7) # kwargs --> {\"volumen\":2, \"temperatura\":5}\n",
    "\n"
   ]
  },
  {
   "cell_type": "code",
   "execution_count": 134,
   "id": "c866e786",
   "metadata": {},
   "outputs": [
    {
     "name": "stdout",
     "output_type": "stream",
     "text": [
      "('h', 's')\n",
      "(1, 8)\n"
     ]
    },
    {
     "ename": "TypeError",
     "evalue": "'bool' object is not subscriptable",
     "output_type": "error",
     "traceback": [
      "\u001b[1;31m---------------------------------------------------------------------------\u001b[0m",
      "\u001b[1;31mTypeError\u001b[0m                                 Traceback (most recent call last)",
      "Cell \u001b[1;32mIn[134], line 5\u001b[0m\n\u001b[0;32m      3\u001b[0m \u001b[39mprint\u001b[39m(mi_lambda(\u001b[39m\"\u001b[39m\u001b[39mhola\u001b[39m\u001b[39m\"\u001b[39m, \u001b[39m\"\u001b[39m\u001b[39madiós\u001b[39m\u001b[39m\"\u001b[39m))\n\u001b[0;32m      4\u001b[0m \u001b[39mprint\u001b[39m(mi_lambda([\u001b[39m1\u001b[39m,\u001b[39m2\u001b[39m,\u001b[39m3\u001b[39m], (\u001b[39m7\u001b[39m,\u001b[39m8\u001b[39m)))\n\u001b[1;32m----> 5\u001b[0m \u001b[39mprint\u001b[39m(mi_lambda(\u001b[39mTrue\u001b[39;49;00m, \u001b[39mFalse\u001b[39;49;00m))\n",
      "Cell \u001b[1;32mIn[134], line 1\u001b[0m, in \u001b[0;36m<lambda>\u001b[1;34m(x, y)\u001b[0m\n\u001b[1;32m----> 1\u001b[0m mi_lambda \u001b[39m=\u001b[39m \u001b[39mlambda\u001b[39;00m x, y: (x[\u001b[39m0\u001b[39;49m], y[\u001b[39m-\u001b[39m\u001b[39m1\u001b[39m])\n\u001b[0;32m      3\u001b[0m \u001b[39mprint\u001b[39m(mi_lambda(\u001b[39m\"\u001b[39m\u001b[39mhola\u001b[39m\u001b[39m\"\u001b[39m, \u001b[39m\"\u001b[39m\u001b[39madiós\u001b[39m\u001b[39m\"\u001b[39m))\n\u001b[0;32m      4\u001b[0m \u001b[39mprint\u001b[39m(mi_lambda([\u001b[39m1\u001b[39m,\u001b[39m2\u001b[39m,\u001b[39m3\u001b[39m], (\u001b[39m7\u001b[39m,\u001b[39m8\u001b[39m)))\n",
      "\u001b[1;31mTypeError\u001b[0m: 'bool' object is not subscriptable"
     ]
    }
   ],
   "source": [
    "mi_lambda = lambda x, y: (x[0], y[-1])\n",
    "\n",
    "print(mi_lambda(\"hola\", \"adiós\"))\n",
    "print(mi_lambda([1,2,3], (7,8)))\n",
    "print(mi_lambda(True, False)) # da error\n"
   ]
  },
  {
   "cell_type": "code",
   "execution_count": 145,
   "id": "07d18a19",
   "metadata": {},
   "outputs": [
    {
     "data": {
      "text/plain": [
       "['holalalala', 'adióslalala']"
      ]
     },
     "execution_count": 145,
     "metadata": {},
     "output_type": "execute_result"
    }
   ],
   "source": [
    "list(map(lambda x: x.upper(), [ \"hola\", \"adiós\"]))\n",
    "list(map(str.upper, [ \"hola\", \"adiós\"]))\n",
    "list(map(lambda x: x + \"lalala\", [ \"hola\", \"adiós\"]))\n"
   ]
  },
  {
   "cell_type": "code",
   "execution_count": 147,
   "id": "be98f616",
   "metadata": {},
   "outputs": [
    {
     "data": {
      "text/plain": [
       "[('hola', 1, 4), ('adiós', 2, 5)]"
      ]
     },
     "execution_count": 147,
     "metadata": {},
     "output_type": "execute_result"
    }
   ],
   "source": [
    "list(zip([\"hola\", \"adiós\"], [1,2,3,4], (4,5,6)))"
   ]
  },
  {
   "cell_type": "code",
   "execution_count": null,
   "id": "d0833fbb",
   "metadata": {},
   "outputs": [],
   "source": [
    "# map(funcion, iterable) --> MapObject\n",
    "# zip(iterable)"
   ]
  },
  {
   "cell_type": "code",
   "execution_count": null,
   "id": "acfd874c",
   "metadata": {},
   "outputs": [],
   "source": []
  }
 ],
 "metadata": {
  "kernelspec": {
   "display_name": "Python 3",
   "language": "python",
   "name": "python3"
  },
  "language_info": {
   "codemirror_mode": {
    "name": "ipython",
    "version": 3
   },
   "file_extension": ".py",
   "mimetype": "text/x-python",
   "name": "python",
   "nbconvert_exporter": "python",
   "pygments_lexer": "ipython3",
   "version": "3.11.3"
  }
 },
 "nbformat": 4,
 "nbformat_minor": 5
}
