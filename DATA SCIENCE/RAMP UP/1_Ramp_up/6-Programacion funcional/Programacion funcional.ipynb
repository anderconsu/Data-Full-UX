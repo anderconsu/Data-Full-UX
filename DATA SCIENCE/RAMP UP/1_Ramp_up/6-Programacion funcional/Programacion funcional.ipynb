{
 "cells": [
  {
   "attachments": {},
   "cell_type": "markdown",
   "metadata": {},
   "source": [
    "![imagen](./img/python.jpg)\n",
    "\n",
    "# Programación funcional\n",
    "\n",
    "En programación hay varios tipos de lenguajes. Como vimos en Notebooks anteriores, **Python es un lenguaje de programación orientado a objetos**. No obstante, es bastante versatil y **admite** otras funcionalidades propias de otros lenguajes, como es la **programación funcional**. En este Notebook verás qué utilidad tiene este tipo de programación, y cómo usarla en Python.\n",
    "\n",
    "1. [Programacion funcional](#1.-Programacion-funcional)\n",
    "2. [Funcion lambda](#2.-Funcion-lambda)\n",
    "3. [Map](#3.-Map)\n",
    "4. [Reduce](#4.-Reduce)\n",
    "5. [Filter](#5.-Filter)\n",
    "6. [Timeit](#6.-Timeit)\n",
    "7. [Programacion funcional en Pandas](#7.-Programacion-funcional-en-Pandas)\n",
    "8. [Resumen](#8.-Resumen)\n"
   ]
  },
  {
   "attachments": {},
   "cell_type": "markdown",
   "metadata": {},
   "source": [
    "## 1. Programacion funcional\n",
    "Dependiendo del problema que queramos resolver, utilizaremos un tipo de lenguaje de programación u otro. Veamos la diferencia entre un lenguaje de programación orientado a objetos y uno funcional:\n",
    "* **Programación Orientada a Objetos (OOP)**: sería el caso de Python. En este caso se encapsulan todos los elementos del programa en objetos, que son de cierto tipo, **tienen un estado**, atributos y funcionalidades. Lenguajes orientados a objetos son Java, Python, JavaScript, Ruby... entre otros.\n",
    "\n",
    "* **Programación Funcional**: El programa se divide en un conjunto de funciones. Por tanto, es un entrada/salida continuo, ya que las funciones tienen un *input*, realizan operaciones, y después un *output*. Son lenguajes que ofrecen un buen rendimiento pero difíciles de desarrollar ya que hay que acudir mucho a la recursividad. Algunos de los lenguajes más usados son [Clojure](https://clojure.org) o [Scala](https://www.scala-lang.org).\n",
    "\n",
    "Por tanto, ¿Python que es? ¿Es orientado a objetos...? ¿Es funcinal? **Python es orientado a objetos, pero además cuenta con ciertas funciones *built-in* propias de la programación funcional**, como `map` o `filter`, lo que nos va a aportar nuevas maneras de solventar problemas en nuestro programa, además de mejoras en rendimiento.\n",
    "\n",
    "Como ves, Python nos va a permitir usar todas sus funcionalidades propias como lenguaje orientado a objetos que es, y además la posibilidad de combinarlas con otro tipo de programación, como es la funcional.\n",
    "\n",
    "\n",
    "¿Cómo podemos iterar sobre una lista y calcular la suma de sus elementos?"
   ]
  },
  {
   "cell_type": "code",
   "execution_count": 1,
   "metadata": {},
   "outputs": [
    {
     "data": {
      "text/plain": [
       "15"
      ]
     },
     "execution_count": 1,
     "metadata": {},
     "output_type": "execute_result"
    }
   ],
   "source": [
    "lista = [1,2,3,4,5]\n",
    "\n",
    "suma = 0\n",
    "for i in lista:\n",
    "    suma += i\n",
    "suma"
   ]
  },
  {
   "attachments": {},
   "cell_type": "markdown",
   "metadata": {},
   "source": [
    "A parte de la función *built-in* de Python `sum()`, tenemos también la opción de la recursividad, con la que no usamos bucles, y únicamente realizamos operaciones mediante funciones."
   ]
  },
  {
   "cell_type": "code",
   "execution_count": 2,
   "metadata": {},
   "outputs": [
    {
     "data": {
      "text/plain": [
       "6"
      ]
     },
     "execution_count": 2,
     "metadata": {},
     "output_type": "execute_result"
    }
   ],
   "source": [
    "lista = [1,2,3]\n",
    "def suma_fun(lista):\n",
    "    \n",
    "    if len(lista) == 0:\n",
    "        return 0\n",
    "    \n",
    "    return lista[0] + suma_fun(lista[1:])\n",
    "\n",
    "suma_fun(lista)"
   ]
  },
  {
   "attachments": {},
   "cell_type": "markdown",
   "metadata": {},
   "source": [
    "La principal diferecia radica en **el estado**. En el caso del `for` tenemos un programa que va cambiando su estado, debido a las diferentes variables que toman `suma` e `i`. Sin embargo, en el segundo ejemplo no hay estados. Son funciones que llaman a otras, tienen un *input* y un *output*. Lo veremos más en detalle en el Notebook."
   ]
  },
  {
   "attachments": {},
   "cell_type": "markdown",
   "metadata": {},
   "source": [
    "## 2. Funcion lambda\n",
    "Recuerda cómo era la sintaxis para crear funciones:\n",
    "```Python\n",
    "def nombre_funcion(argumentos):\n",
    "    cosas de la funcion\n",
    "    return output\n",
    "```\n",
    "Una función tiene un nombre, unos parámetros de entrada, operaciones dentro y un output. En este apartado se presenta una nueva manera más ágil de crear funciones, gracias a la sentencia `lambda`. Con `lambda` podrás crear funciones sencillas y de una única expresión.\n",
    "\n",
    "Las funciones `lambda` **son anónimas**, no tienen un nombre que las identifique, simplemente se ejecuta el código de la función que declaremos. \n",
    "\n",
    "La sintaxis de una función `lambda` es:\n",
    "```Python\n",
    "lambda argumentos: expresion\n",
    "```\n",
    "\n",
    "Veamos un ejemplo"
   ]
  },
  {
   "cell_type": "code",
   "execution_count": 2,
   "metadata": {},
   "outputs": [
    {
     "name": "stdout",
     "output_type": "stream",
     "text": [
      "<class 'function'>\n"
     ]
    },
    {
     "data": {
      "text/plain": [
       "12"
      ]
     },
     "execution_count": 2,
     "metadata": {},
     "output_type": "execute_result"
    }
   ],
   "source": [
    "# Declaramos funcion\n",
    "def suma(x,y):\n",
    "    return x + y\n",
    "\n",
    "# Guardamos en variable\n",
    "suma_var = suma\n",
    "\n",
    "# Vemos el tipo\n",
    "print(type(suma_var))\n",
    "\n",
    "# Usamos la funcion\n",
    "suma_var(5, 7)"
   ]
  },
  {
   "attachments": {},
   "cell_type": "markdown",
   "metadata": {},
   "source": [
    "Como ves, las funciones son un objeto más, que podemos asignar a una variable. Veamos ahora cómo traducimos esto a una función `lambda`"
   ]
  },
  {
   "cell_type": "code",
   "execution_count": 4,
   "metadata": {},
   "outputs": [
    {
     "data": {
      "text/plain": [
       "<function __main__.<lambda>(x, y)>"
      ]
     },
     "execution_count": 4,
     "metadata": {},
     "output_type": "execute_result"
    }
   ],
   "source": [
    "lambda x,y: x + y"
   ]
  },
  {
   "cell_type": "code",
   "execution_count": 3,
   "metadata": {},
   "outputs": [
    {
     "data": {
      "text/plain": [
       "12"
      ]
     },
     "execution_count": 3,
     "metadata": {},
     "output_type": "execute_result"
    }
   ],
   "source": [
    "# Si la asignamos a una variable\n",
    "suma_lambda = lambda x,y: x + y\n",
    "\n",
    "suma_lambda(5,7)"
   ]
  },
  {
   "attachments": {},
   "cell_type": "markdown",
   "metadata": {},
   "source": [
    "Las funciones `lambda` no se usan solas, sino que son argumentos de funciones de más alto nivel, es decir, funciones cuyos parámetros de entrada son otras funciones, como `map`, `reduce` o `filter`.\n",
    "\n",
    "Las `lambdas` también pueden ser una buena manera de escribir código más entendible. Veamos un ejemplo en el que trabajamos con coordenadas."
   ]
  },
  {
   "cell_type": "code",
   "execution_count": 5,
   "metadata": {},
   "outputs": [
    {
     "name": "stdout",
     "output_type": "stream",
     "text": [
      "(40.4440297, -3.6956047)\n",
      "(40.4585318, -3.684715)\n"
     ]
    }
   ],
   "source": [
    "estaciones = ((40.4440297, -3.6956047), (40.4585318, -3.684715))\n",
    "\n",
    "inicio = lambda x: x[0]\n",
    "fin = lambda x: x[1]\n",
    "\n",
    "print(inicio(estaciones))\n",
    "print(fin(estaciones))"
   ]
  },
  {
   "cell_type": "code",
   "execution_count": 7,
   "metadata": {},
   "outputs": [
    {
     "name": "stdout",
     "output_type": "stream",
     "text": [
      "40.4440297\n",
      "-3.6956047\n"
     ]
    }
   ],
   "source": [
    "lat = lambda x: x[0]\n",
    "lon = lambda x: x[1]\n",
    "\n",
    "print(lat(inicio(estaciones)))\n",
    "print(lon(inicio(estaciones)))"
   ]
  },
  {
   "attachments": {},
   "cell_type": "markdown",
   "metadata": {},
   "source": [
    "<table align=\"left\">\n",
    " <tr><td width=\"80\"><img src=\"./img/ejercicio.png\" style=\"width:auto;height:auto\"></td>\n",
    "     <td style=\"text-align:left\">\n",
    "         <h3>Trabajando con lambda</h3>\n",
    "         \n",
    "<ol>\n",
    "    <li>Crea una función lambda con tres argumentos, y que multiplique los tres </li>\n",
    "    <li>Crea otra función lambda con un único argumento y que calcule la raíz cuadrada del mismo.</li>\n",
    "</ol>\n",
    "         \n",
    " </td></tr>\n",
    "</table>"
   ]
  },
  {
   "cell_type": "code",
   "execution_count": 8,
   "metadata": {},
   "outputs": [
    {
     "data": {
      "text/plain": [
       "6"
      ]
     },
     "execution_count": 8,
     "metadata": {},
     "output_type": "execute_result"
    }
   ],
   "source": [
    "mult_tres_elem = lambda x,y,z: x * y * z\n",
    "mult_tres_elem(1,2,3)"
   ]
  },
  {
   "cell_type": "code",
   "execution_count": 9,
   "metadata": {},
   "outputs": [
    {
     "data": {
      "text/plain": [
       "5.0"
      ]
     },
     "execution_count": 9,
     "metadata": {},
     "output_type": "execute_result"
    }
   ],
   "source": [
    "import math\n",
    "\n",
    "raiz = lambda x: math.sqrt(x)\n",
    "\n",
    "raiz(25)"
   ]
  },
  {
   "attachments": {},
   "cell_type": "markdown",
   "metadata": {},
   "source": [
    "## 3. Map\n",
    "Se trata de una función *built-in* que tiene dos argumentos. Unos es una función, y el otro un iterable, que puede ser una lista, tupla, string... **Lo que hace es aplicarle la función a cada uno de los argumentos del iterable**. Mapea cada valor del iterable, le aplica una operación, y crea un nuevo iterable al que le ha aplicado dicha operación.\n",
    "\n",
    "Su sintaxis es:\n",
    "```Python\n",
    "map(funcion, iterable)\n",
    "```\n",
    "\n",
    "Se trata de una manera de sustituir la funcionalidad de los bucles. Muy útil cuando queramos aplicar operaciones a una lista entera."
   ]
  },
  {
   "cell_type": "code",
   "execution_count": 6,
   "metadata": {},
   "outputs": [
    {
     "name": "stdout",
     "output_type": "stream",
     "text": [
      "[3, 7, 6, 8, 13]\n"
     ]
    }
   ],
   "source": [
    "my_list = [1,5,4,6,11]\n",
    "\n",
    "#my_list + 2 NO\n",
    "\n",
    "new_list = map(lambda x: x + 2, my_list)\n",
    "\n",
    "print(list(new_list))"
   ]
  },
  {
   "attachments": {},
   "cell_type": "markdown",
   "metadata": {},
   "source": [
    "Fíjate que la función `map` devuelve un *map object*, que no es más que un iterable, convertible fácilmente a una lista. Como ves, de momento aplicaremos una función `lambda` con una única expresión, pero más adelante verás cómo puedes aplicarle tus propias funciones más complejas.\n",
    "\n",
    "Veamos otro ejemplo con operaciones diferentes"
   ]
  },
  {
   "cell_type": "code",
   "execution_count": 26,
   "metadata": {},
   "outputs": [
    {
     "name": "stdout",
     "output_type": "stream",
     "text": [
      "[False, True, False, False]\n"
     ]
    }
   ],
   "source": [
    "my_list = (True, False, True, True)\n",
    "\n",
    "new_list = map(lambda x: not x, my_list)\n",
    "\n",
    "print(list(new_list))"
   ]
  },
  {
   "attachments": {},
   "cell_type": "markdown",
   "metadata": {},
   "source": [
    "`map` trabaja con iterables, por lo que también será posible aplicarle un `map` a un string."
   ]
  },
  {
   "cell_type": "code",
   "execution_count": 29,
   "metadata": {},
   "outputs": [
    {
     "name": "stdout",
     "output_type": "stream",
     "text": [
      "('W-AAA', 'W-BBB', 'W-CCC')\n"
     ]
    }
   ],
   "source": [
    "my_list = (\"AAA\", \"BBB\", \"CCC\")\n",
    "\n",
    "new_list = map(lambda x: \"W-\" + x, my_list)\n",
    "\n",
    "print(tuple(new_list))"
   ]
  },
  {
   "attachments": {},
   "cell_type": "markdown",
   "metadata": {},
   "source": [
    "Puedes incluso separar la función `lambda`, para posteriormente usarla en otros lugares."
   ]
  },
  {
   "cell_type": "code",
   "execution_count": 9,
   "metadata": {},
   "outputs": [
    {
     "name": "stdout",
     "output_type": "stream",
     "text": [
      "{'W-BBB', 'W-AAA', 'W-CCC'}\n"
     ]
    }
   ],
   "source": [
    "my_list = (\"AAA\", \"BBB\", \"CCC\")\n",
    "\n",
    "my_fun = lambda x: \"W-\" + x\n",
    "\n",
    "new_list = map(my_fun, my_list)\n",
    "\n",
    "print(set(new_list))"
   ]
  },
  {
   "attachments": {},
   "cell_type": "markdown",
   "metadata": {},
   "source": [
    "**Incluso podrás aplicar tus propias funciones**. Imagina la versatilidad que te da esto. Dentro de cada función podrás realizar el cálculo que quieras, y ese calculo se le aplicará a cada elemento de tu iterable."
   ]
  },
  {
   "cell_type": "code",
   "execution_count": 31,
   "metadata": {},
   "outputs": [
    {
     "name": "stdout",
     "output_type": "stream",
     "text": [
      "('W-AAA', 'W-BBB', 'W-CCC')\n"
     ]
    }
   ],
   "source": [
    "my_list = (\"AAA\", \"BBB\", \"CCC\")\n",
    "\n",
    "def aniade_w(x):\n",
    "    return \"W-\" + x\n",
    "\n",
    "new_list = map(aniade_w, my_list)\n",
    "\n",
    "print(tuple(new_list))"
   ]
  },
  {
   "attachments": {},
   "cell_type": "markdown",
   "metadata": {},
   "source": [
    "`map` también trabaja con funciones con varios argumentos, lo único que hay que hacer es añadirle un argumento más al `map`. Y esto es aplicable a *n* argumentos. Podría darse el caso en el que alguno de los iterables tenga menores dimensiones que el resto. Si ocurre eso, se aplicará el `map` hasta el iterable con la mínima longitud."
   ]
  },
  {
   "cell_type": "code",
   "execution_count": 37,
   "metadata": {},
   "outputs": [
    {
     "name": "stdout",
     "output_type": "stream",
     "text": [
      "[1, 2, 3, 4, 5, 6]\n",
      "[3.6, 5.58, 4.009, 56.2424, 9.01344, 32.00013]\n"
     ]
    }
   ],
   "source": [
    "circle_areas = [3.56773, 5.57668, 4.00914, 56.24241, 9.01344, 32.00013]\n",
    "\n",
    "decimales = range(1,7)\n",
    "print(list(decimales))\n",
    "\n",
    "# round(numero decimal, cantidad de decimales)\n",
    "result = map(round, circle_areas, decimales)\n",
    "\n",
    "print(list(result))"
   ]
  },
  {
   "attachments": {},
   "cell_type": "markdown",
   "metadata": {},
   "source": [
    "<table align=\"left\">\n",
    " <tr><td width=\"80\"><img src=\"./img/ejercicio.png\" style=\"width:auto;height:auto\"></td>\n",
    "     <td style=\"text-align:left\">\n",
    "         <h3>Trabajando con map</h3>\n",
    "         \n",
    "\n",
    "         \n",
    "<ol>\n",
    "    <li>Añádele \"W-\"a todas las claves del diccionario</li>\n",
    "    <li>Convierte todos los elementos de la tupla en enteros</li>\n",
    "</ol>\n",
    "         \n",
    " </td></tr>\n",
    "</table>"
   ]
  },
  {
   "cell_type": "code",
   "execution_count": 10,
   "metadata": {},
   "outputs": [],
   "source": [
    "my_dict = {\"a\": 1, \"b\": 2, \"c\": 3}\n",
    "my_list = ('1', '5', '4', '6', '8', '11', '3', '12')"
   ]
  },
  {
   "cell_type": "code",
   "execution_count": 12,
   "metadata": {},
   "outputs": [
    {
     "name": "stdout",
     "output_type": "stream",
     "text": [
      "('W-a', 'W-b', 'W-c')\n"
     ]
    }
   ],
   "source": [
    "my_dict = {\"a\": 1, \"b\": 2, \"c\": 3}\n",
    "\n",
    "new_dict = map(lambda x: \"W-\" + x, my_dict)\n",
    "\n",
    "print(tuple(new_dict))"
   ]
  },
  {
   "cell_type": "code",
   "execution_count": 39,
   "metadata": {},
   "outputs": [
    {
     "name": "stdout",
     "output_type": "stream",
     "text": [
      "[1, 5, 4, 6, 8, 11, 3, 12]\n"
     ]
    }
   ],
   "source": [
    "my_list = ('1', '5', '4', '6', '8', '11', '3', '12')\n",
    "\n",
    "new_list = map(int, my_list)\n",
    "\n",
    "print(list(new_list))"
   ]
  },
  {
   "attachments": {},
   "cell_type": "markdown",
   "metadata": {},
   "source": [
    "## 4. Reduce\n",
    "La función `reduce` no es *built-in* como tal, sino que está incorporada en el paquete de `functools`. Su nombre ya nos da alguna pista sobre lo que hace, **es una manera de agregar los datos**. Tiene esta sintaxis:\n",
    "\n",
    "```Python\n",
    "reduce(funcion, iterable[, initial]))\n",
    "```\n",
    "`reduce`, al igual que `map`, tiene dos argumentos. Uno de ellos es el iterable que vayamos a usar, y el otro es la lógica que le queramos aplicar al `reduce`. La función que se le aplica al reduce tiene dos argumentos, que son los dos primeros elementos del iterable. Tiene un tercer argumento que es opcional, y nos permite iniciar la operación con un valor. Lo veremos luego en un ejemplo.\n",
    "\n",
    "Si te fijas, `map` aplica la operación definida en la función a todos los elementos, devolviendo la misma lista, pero con los elementos transformados, mientras que **`reduce`, agrega todos los datos de la lista**.\n"
   ]
  },
  {
   "cell_type": "code",
   "execution_count": 13,
   "metadata": {},
   "outputs": [
    {
     "name": "stdout",
     "output_type": "stream",
     "text": [
      "17\n"
     ]
    }
   ],
   "source": [
    "from functools import reduce\n",
    "\n",
    "lista = [1,3,5,6,2]\n",
    "\n",
    "resultado = reduce(lambda x,y: x+y, lista)\n",
    "\n",
    "print(resultado)"
   ]
  },
  {
   "cell_type": "code",
   "execution_count": 42,
   "metadata": {},
   "outputs": [
    {
     "data": {
      "text/plain": [
       "[1, 3, 5, 6, 2]"
      ]
     },
     "execution_count": 42,
     "metadata": {},
     "output_type": "execute_result"
    }
   ],
   "source": [
    "lista"
   ]
  },
  {
   "attachments": {},
   "cell_type": "markdown",
   "metadata": {},
   "source": [
    "`reduce` hay que entendero como si fuese una función recursiva. La función de dentro tiene dos argumentos que son los dos primeros elementos del iterable, y después al resultado de la suma de ambos, se le aplica la misma operación sobre el tercer elemento, y así hasta que acaba el iterable."
   ]
  },
  {
   "cell_type": "code",
   "execution_count": 14,
   "metadata": {},
   "outputs": [
    {
     "name": "stdout",
     "output_type": "stream",
     "text": [
      "117\n"
     ]
    }
   ],
   "source": [
    "lista = [1,3,5,6,2]\n",
    "\n",
    "resultado = reduce(lambda x,y: x+y, lista, 100)\n",
    "\n",
    "print(resultado)"
   ]
  },
  {
   "attachments": {},
   "cell_type": "markdown",
   "metadata": {},
   "source": [
    "Realmente el `reduce` lleva un tercer argumento llamado `initializer`. Por defecto es `None`, pero si lo cambiamos, cuando llamemos a la función, su primer argumento será ese `initializer`. Por ejemplo, si estamos sumando toda una colección sería como si el primer elemento de la colección fuese el `initializer`."
   ]
  },
  {
   "cell_type": "code",
   "execution_count": 17,
   "metadata": {},
   "outputs": [
    {
     "name": "stdout",
     "output_type": "stream",
     "text": [
      "-Hola me llamo Ralph\n"
     ]
    }
   ],
   "source": [
    "lista_strings = [\"Hola \", \"me\", \" llamo\", \" Ralph\"]\n",
    "\n",
    "resultado = reduce(lambda x,y: x+y, lista_strings, \"-\")\n",
    "\n",
    "print(resultado)"
   ]
  },
  {
   "attachments": {},
   "cell_type": "markdown",
   "metadata": {},
   "source": [
    "<table align=\"left\">\n",
    " <tr><td width=\"80\"><img src=\"./img/ejercicio.png\" style=\"width:auto;height:auto\"></td>\n",
    "     <td style=\"text-align:left\">\n",
    "         <h3>Trabajando con reduce</h3>\n",
    "         \n",
    "Utiliza reduce para calcular el producto de todos los elementos de la siguiente tupla\n",
    "         \n",
    " </td></tr>\n",
    "</table>"
   ]
  },
  {
   "cell_type": "code",
   "execution_count": 19,
   "metadata": {},
   "outputs": [
    {
     "name": "stdout",
     "output_type": "stream",
     "text": [
      "80\n"
     ]
    }
   ],
   "source": [
    "lista = (2,5,4)\n",
    "\n",
    "producto = reduce(lambda x,y: x*y, lista,2)\n",
    "print(producto)"
   ]
  },
  {
   "cell_type": "code",
   "execution_count": 20,
   "metadata": {},
   "outputs": [
    {
     "data": {
      "text/plain": [
       "40"
      ]
     },
     "execution_count": 20,
     "metadata": {},
     "output_type": "execute_result"
    }
   ],
   "source": [
    "reduce(lambda x,y: x*y, lista)"
   ]
  },
  {
   "attachments": {},
   "cell_type": "markdown",
   "metadata": {},
   "source": [
    "## 5. Filter\n",
    "Con esta función *built-in* podremos **filtrar elementos de un iterable**. `filter` tiene la siguiente sintaxis:\n",
    "\n",
    "```Python\n",
    "filter(funcion, iterable)\n",
    "```\n",
    "\n",
    "Como ves, funciona muy parecido a map. La diferencia es que ahora la función que se le aplica tiene una salida estilo `True`/`False` **(lo que se conoce como máscara)**. Y con ese `True`/`False` se filtra el iterable, respetando sus posiciones. Por ejemplo\n",
    "\n",
    "```Python\n",
    "lista1 = [-1, 10, 23, -5, -10]\n",
    "```\n",
    "\n",
    "Si filtras los números positivos, te queda un array del tipo:\n",
    "\n",
    "```Python\n",
    "lista_bools = [False, True, True, False, False]\n",
    "```\n",
    "\n",
    "Y eso es lo que se le aplica a la lista, conservando únicamente los `True`:\n",
    "\n",
    "```Python\n",
    "lista_resultado = [10, 23]\n",
    "```\n",
    "\n",
    "A diferencia de `map`, **en `filter` sólo se usa un iterable**. Además, recuerda que en el argumento de la función, no sólo podrás usar `lambda`s, sino que podrás aplicar tus propias funciones. Ahora bien, ten en cuenta que **el output de esas funciones tiene que ser un `True`/`False`**.\n",
    "\n",
    "Veamos un ejemplo"
   ]
  },
  {
   "cell_type": "code",
   "execution_count": 50,
   "metadata": {},
   "outputs": [
    {
     "name": "stdout",
     "output_type": "stream",
     "text": [
      "[5, 6]\n"
     ]
    }
   ],
   "source": [
    "lista = [ 1 , 3, 5, 6, 2]\n",
    "\n",
    "filtrado = filter(lambda x: x >= 5, lista)\n",
    "\n",
    "print(list(filtrado))"
   ]
  },
  {
   "attachments": {},
   "cell_type": "markdown",
   "metadata": {},
   "source": [
    "O implementando nuestra propia función"
   ]
  },
  {
   "cell_type": "code",
   "execution_count": 51,
   "metadata": {},
   "outputs": [
    {
     "name": "stdout",
     "output_type": "stream",
     "text": [
      "[5, 6]\n"
     ]
    }
   ],
   "source": [
    "lista = [ 1 , 3, 5, 6, 2]\n",
    "\n",
    "def mas_cinco(x):\n",
    "    if x >= 5:\n",
    "        return True\n",
    "    \n",
    "    return False\n",
    "\n",
    "filtrado = filter(mas_cinco, lista)\n",
    "\n",
    "print(list(filtrado))"
   ]
  },
  {
   "attachments": {},
   "cell_type": "markdown",
   "metadata": {},
   "source": [
    "Como ves, estas son otras formas más rápdas y elegantes de aplicar operaciones sobre colecciones."
   ]
  },
  {
   "attachments": {},
   "cell_type": "markdown",
   "metadata": {},
   "source": [
    "<table align=\"left\">\n",
    " <tr><td width=\"80\"><img src=\"./img/ejercicio.png\" style=\"width:auto;height:auto\"></td>\n",
    "     <td style=\"text-align:left\">\n",
    "         <h3>Trabajando con filter</h3>\n",
    "         \n",
    "Utiliza filter para conseguir quedarte únicamente con los floats de la siguiente tupla.\n",
    "         \n",
    " </td></tr>\n",
    "</table>"
   ]
  },
  {
   "cell_type": "code",
   "execution_count": 23,
   "metadata": {},
   "outputs": [],
   "source": [
    "mis_nums = (1, 4., 10., 25, 67)"
   ]
  },
  {
   "cell_type": "code",
   "execution_count": 25,
   "metadata": {},
   "outputs": [
    {
     "name": "stdout",
     "output_type": "stream",
     "text": [
      "(1, 25, 67)\n"
     ]
    }
   ],
   "source": [
    "def filter_floats(x):\n",
    "    \n",
    "    if type(x) == int:\n",
    "        return True\n",
    "    return False\n",
    "\n",
    "filtrado = filter(filter_floats, mis_nums)\n",
    "\n",
    "print(tuple(filtrado))"
   ]
  },
  {
   "attachments": {},
   "cell_type": "markdown",
   "metadata": {},
   "source": [
    "## 6. Timeit\n",
    "Para el bootcamp, y en general si vas a realizar una analítica descriptiva de datos, no suele ser crítico el rendimiento en tu programa. Imagina que has desarrollado un clasificador de movimientos bancarios tipo *Fintonic*. Estos algoritmos suelen ser muy pesados ya que hay que buscar en muchos strings y hacer varias comprobaciones. Aun así, has conseguido que te clasifique cada movimiento en 0,5 segundos. Que está muy bien. El problema es cuando un cliente tiene 1000 movimientos en una cuenta y tienes que clasificarlos todos aplicando tu clasificador mediante un bucle. El programa se te dispara a 250 segundos -> 4 minutos aprox, que estará el cliente esperando a que tu clasificador acabe... muchísimo. Con programación funcional mejora mucho la cosa ya que no hay que iterar.\n",
    "\n",
    "Por tanto, **cuando trabajes con muchos datos, ten en mente este tipo de funciones (`map`, `reduce`, `filter`) ya que la mejora en rendimiento es más que considerable.**"
   ]
  },
  {
   "cell_type": "code",
   "execution_count": 26,
   "metadata": {},
   "outputs": [],
   "source": [
    "num_elementos = 100000\n",
    "\n",
    "lista = list(range(num_elementos))"
   ]
  },
  {
   "cell_type": "code",
   "execution_count": 27,
   "metadata": {},
   "outputs": [
    {
     "ename": "KeyboardInterrupt",
     "evalue": "",
     "output_type": "error",
     "traceback": [
      "\u001b[1;31m---------------------------------------------------------------------------\u001b[0m",
      "\u001b[1;31mKeyboardInterrupt\u001b[0m                         Traceback (most recent call last)",
      "Cell \u001b[1;32mIn[27], line 1\u001b[0m\n\u001b[1;32m----> 1\u001b[0m get_ipython()\u001b[39m.\u001b[39;49mrun_cell_magic(\u001b[39m'\u001b[39;49m\u001b[39mtimeit\u001b[39;49m\u001b[39m'\u001b[39;49m, \u001b[39m'\u001b[39;49m\u001b[39m'\u001b[39;49m, \u001b[39m'\u001b[39;49m\u001b[39m\\n\u001b[39;49;00m\u001b[39mlista_output = []\u001b[39;49m\u001b[39m\\n\u001b[39;49;00m\u001b[39mfor i in lista:\u001b[39;49m\u001b[39m\\n\u001b[39;49;00m\u001b[39m    lista_output.append(i + 5)\u001b[39;49m\u001b[39m\\n\u001b[39;49;00m\u001b[39m'\u001b[39;49m)\n",
      "File \u001b[1;32mc:\\Users\\aleso\\AppData\\Local\\Programs\\Python\\Python311\\Lib\\site-packages\\IPython\\core\\interactiveshell.py:2478\u001b[0m, in \u001b[0;36mInteractiveShell.run_cell_magic\u001b[1;34m(self, magic_name, line, cell)\u001b[0m\n\u001b[0;32m   2476\u001b[0m \u001b[39mwith\u001b[39;00m \u001b[39mself\u001b[39m\u001b[39m.\u001b[39mbuiltin_trap:\n\u001b[0;32m   2477\u001b[0m     args \u001b[39m=\u001b[39m (magic_arg_s, cell)\n\u001b[1;32m-> 2478\u001b[0m     result \u001b[39m=\u001b[39m fn(\u001b[39m*\u001b[39;49margs, \u001b[39m*\u001b[39;49m\u001b[39m*\u001b[39;49mkwargs)\n\u001b[0;32m   2480\u001b[0m \u001b[39m# The code below prevents the output from being displayed\u001b[39;00m\n\u001b[0;32m   2481\u001b[0m \u001b[39m# when using magics with decodator @output_can_be_silenced\u001b[39;00m\n\u001b[0;32m   2482\u001b[0m \u001b[39m# when the last Python token in the expression is a ';'.\u001b[39;00m\n\u001b[0;32m   2483\u001b[0m \u001b[39mif\u001b[39;00m \u001b[39mgetattr\u001b[39m(fn, magic\u001b[39m.\u001b[39mMAGIC_OUTPUT_CAN_BE_SILENCED, \u001b[39mFalse\u001b[39;00m):\n",
      "File \u001b[1;32mc:\\Users\\aleso\\AppData\\Local\\Programs\\Python\\Python311\\Lib\\site-packages\\IPython\\core\\magics\\execution.py:1174\u001b[0m, in \u001b[0;36mExecutionMagics.timeit\u001b[1;34m(self, line, cell, local_ns)\u001b[0m\n\u001b[0;32m   1171\u001b[0m         \u001b[39mif\u001b[39;00m time_number \u001b[39m>\u001b[39m\u001b[39m=\u001b[39m \u001b[39m0.2\u001b[39m:\n\u001b[0;32m   1172\u001b[0m             \u001b[39mbreak\u001b[39;00m\n\u001b[1;32m-> 1174\u001b[0m all_runs \u001b[39m=\u001b[39m timer\u001b[39m.\u001b[39;49mrepeat(repeat, number)\n\u001b[0;32m   1175\u001b[0m best \u001b[39m=\u001b[39m \u001b[39mmin\u001b[39m(all_runs) \u001b[39m/\u001b[39m number\n\u001b[0;32m   1176\u001b[0m worst \u001b[39m=\u001b[39m \u001b[39mmax\u001b[39m(all_runs) \u001b[39m/\u001b[39m number\n",
      "File \u001b[1;32mc:\\Users\\aleso\\AppData\\Local\\Programs\\Python\\Python311\\Lib\\timeit.py:206\u001b[0m, in \u001b[0;36mTimer.repeat\u001b[1;34m(self, repeat, number)\u001b[0m\n\u001b[0;32m    204\u001b[0m r \u001b[39m=\u001b[39m []\n\u001b[0;32m    205\u001b[0m \u001b[39mfor\u001b[39;00m i \u001b[39min\u001b[39;00m \u001b[39mrange\u001b[39m(repeat):\n\u001b[1;32m--> 206\u001b[0m     t \u001b[39m=\u001b[39m \u001b[39mself\u001b[39;49m\u001b[39m.\u001b[39;49mtimeit(number)\n\u001b[0;32m    207\u001b[0m     r\u001b[39m.\u001b[39mappend(t)\n\u001b[0;32m    208\u001b[0m \u001b[39mreturn\u001b[39;00m r\n",
      "File \u001b[1;32mc:\\Users\\aleso\\AppData\\Local\\Programs\\Python\\Python311\\Lib\\site-packages\\IPython\\core\\magics\\execution.py:158\u001b[0m, in \u001b[0;36mTimer.timeit\u001b[1;34m(self, number)\u001b[0m\n\u001b[0;32m    156\u001b[0m gc\u001b[39m.\u001b[39mdisable()\n\u001b[0;32m    157\u001b[0m \u001b[39mtry\u001b[39;00m:\n\u001b[1;32m--> 158\u001b[0m     timing \u001b[39m=\u001b[39m \u001b[39mself\u001b[39;49m\u001b[39m.\u001b[39;49minner(it, \u001b[39mself\u001b[39;49m\u001b[39m.\u001b[39;49mtimer)\n\u001b[0;32m    159\u001b[0m \u001b[39mfinally\u001b[39;00m:\n\u001b[0;32m    160\u001b[0m     \u001b[39mif\u001b[39;00m gcold:\n",
      "File \u001b[1;32m<magic-timeit>:3\u001b[0m, in \u001b[0;36minner\u001b[1;34m(_it, _timer)\u001b[0m\n",
      "\u001b[1;31mKeyboardInterrupt\u001b[0m: "
     ]
    }
   ],
   "source": [
    "%%timeit\n",
    "\n",
    "lista_output = []\n",
    "for i in lista:\n",
    "    lista_output.append(i + 5)"
   ]
  },
  {
   "cell_type": "code",
   "execution_count": 10,
   "metadata": {},
   "outputs": [
    {
     "name": "stdout",
     "output_type": "stream",
     "text": [
      "220 ns ± 1.89 ns per loop (mean ± std. dev. of 7 runs, 1000000 loops each)\n"
     ]
    }
   ],
   "source": [
    "%%timeit\n",
    "\n",
    "lista_output = map(lambda x: x + 5, lista)"
   ]
  },
  {
   "attachments": {},
   "cell_type": "markdown",
   "metadata": {},
   "source": [
    "Como ves, pasamos de milisegundos a nanosegundos."
   ]
  },
  {
   "attachments": {},
   "cell_type": "markdown",
   "metadata": {},
   "source": [
    "## 7. Programacion funcional en Pandas\n",
    "La programación funcional resulta muy útil cuando queremos aplicar operaciones a cada elemento de una columna. Para ello utilizamos la función de pandas `apply`.\n",
    "\n",
    "Imaginemos que tenemos un DataFrame de temperaturas"
   ]
  },
  {
   "cell_type": "code",
   "execution_count": 2,
   "metadata": {},
   "outputs": [
    {
     "name": "stdout",
     "output_type": "stream",
     "text": [
      "Collecting pandas\n",
      "  Downloading pandas-2.0.1-cp311-cp311-win_amd64.whl (10.6 MB)\n",
      "     ---------------------------------------- 10.6/10.6 MB 9.3 MB/s eta 0:00:00\n",
      "Requirement already satisfied: python-dateutil>=2.8.2 in c:\\users\\admin\\appdata\\local\\programs\\python\\python311\\lib\\site-packages (from pandas) (2.8.2)\n",
      "Collecting pytz>=2020.1\n",
      "  Downloading pytz-2023.3-py2.py3-none-any.whl (502 kB)\n",
      "     -------------------------------------- 502.3/502.3 kB 7.8 MB/s eta 0:00:00\n",
      "Collecting tzdata>=2022.1\n",
      "  Downloading tzdata-2023.3-py2.py3-none-any.whl (341 kB)\n",
      "     ------------------------------------- 341.8/341.8 kB 10.7 MB/s eta 0:00:00\n",
      "Collecting numpy>=1.21.0\n",
      "  Downloading numpy-1.24.3-cp311-cp311-win_amd64.whl (14.8 MB)\n",
      "     ---------------------------------------- 14.8/14.8 MB 9.5 MB/s eta 0:00:00\n",
      "Requirement already satisfied: six>=1.5 in c:\\users\\admin\\appdata\\local\\programs\\python\\python311\\lib\\site-packages (from python-dateutil>=2.8.2->pandas) (1.16.0)\n",
      "Installing collected packages: pytz, tzdata, numpy, pandas\n",
      "Successfully installed numpy-1.24.3 pandas-2.0.1 pytz-2023.3 tzdata-2023.3\n",
      "Note: you may need to restart the kernel to use updated packages.\n"
     ]
    },
    {
     "name": "stderr",
     "output_type": "stream",
     "text": [
      "\n",
      "[notice] A new release of pip available: 22.3.1 -> 23.1.2\n",
      "[notice] To update, run: python.exe -m pip install --upgrade pip\n"
     ]
    }
   ],
   "source": [
    "#%pip install pandas"
   ]
  },
  {
   "cell_type": "code",
   "execution_count": 1,
   "metadata": {},
   "outputs": [
    {
     "name": "stdout",
     "output_type": "stream",
     "text": [
      "Requirement already satisfied: pip in c:\\users\\aleso\\appdata\\local\\programs\\python\\python311\\lib\\site-packages (23.1.2)\n",
      "Note: you may need to restart the kernel to use updated packages.\n"
     ]
    }
   ],
   "source": [
    "%pip install --upgrade pip"
   ]
  },
  {
   "cell_type": "code",
   "execution_count": 2,
   "metadata": {},
   "outputs": [
    {
     "ename": "ModuleNotFoundError",
     "evalue": "No module named 'pandas'",
     "output_type": "error",
     "traceback": [
      "\u001b[1;31m---------------------------------------------------------------------------\u001b[0m",
      "\u001b[1;31mModuleNotFoundError\u001b[0m                       Traceback (most recent call last)",
      "Cell \u001b[1;32mIn[2], line 1\u001b[0m\n\u001b[1;32m----> 1\u001b[0m \u001b[39mimport\u001b[39;00m \u001b[39mpandas\u001b[39;00m \u001b[39mas\u001b[39;00m \u001b[39mpd\u001b[39;00m\n\u001b[0;32m      3\u001b[0m weather \u001b[39m=\u001b[39m pd\u001b[39m.\u001b[39mDataFrame({\u001b[39m\"\u001b[39m\u001b[39mtemperatura\u001b[39m\u001b[39m\"\u001b[39m: [\u001b[39m20\u001b[39m, \u001b[39m15\u001b[39m, \u001b[39m34\u001b[39m, \u001b[39m4\u001b[39m, \u001b[39m1\u001b[39m, \u001b[39m25\u001b[39m, \u001b[39m21\u001b[39m, \u001b[39m29\u001b[39m, \u001b[39m40\u001b[39m]})\n",
      "\u001b[1;31mModuleNotFoundError\u001b[0m: No module named 'pandas'"
     ]
    }
   ],
   "source": [
    "import pandas as pd\n",
    "\n",
    "weather = pd.DataFrame({\"temperatura\": [20, 15, 34, 4, 1, 25, 21, 29, 40]})"
   ]
  },
  {
   "attachments": {},
   "cell_type": "markdown",
   "metadata": {},
   "source": [
    "Si quiero calcular una nueva variable que me indique si estoy en verano o invierno, aplicamos una función personalizada mediante `apply`. Para ello primero me defino la función."
   ]
  },
  {
   "cell_type": "code",
   "execution_count": 3,
   "metadata": {
    "collapsed": true,
    "jupyter": {
     "outputs_hidden": true
    }
   },
   "outputs": [
    {
     "ename": "NameError",
     "evalue": "name 'weather' is not defined",
     "output_type": "error",
     "traceback": [
      "\u001b[1;31m---------------------------------------------------------------------------\u001b[0m",
      "\u001b[1;31mNameError\u001b[0m                                 Traceback (most recent call last)",
      "Cell \u001b[1;32mIn[3], line 9\u001b[0m\n\u001b[0;32m      6\u001b[0m     \u001b[39melse\u001b[39;00m:\n\u001b[0;32m      7\u001b[0m         \u001b[39mreturn\u001b[39;00m \u001b[39m\"\u001b[39m\u001b[39mOtra\u001b[39m\u001b[39m\"\u001b[39m\n\u001b[1;32m----> 9\u001b[0m weather[\u001b[39m\"\u001b[39m\u001b[39mseason\u001b[39m\u001b[39m\"\u001b[39m] \u001b[39m=\u001b[39m weather[\u001b[39m\"\u001b[39m\u001b[39mtemperatura\u001b[39m\u001b[39m\"\u001b[39m]\u001b[39m.\u001b[39mapply(season)\n\u001b[0;32m     10\u001b[0m weather\u001b[39m.\u001b[39mhead()\n",
      "\u001b[1;31mNameError\u001b[0m: name 'weather' is not defined"
     ]
    }
   ],
   "source": [
    "def season(temp):\n",
    "    if temp < 5:\n",
    "        return \"Invierno\"\n",
    "    elif temp > 30:\n",
    "        return \"Verano\"\n",
    "    else:\n",
    "        return \"Otra\"\n",
    "    \n",
    "weather[\"season\"] = weather[\"temperatura\"].apply(season)\n",
    "weather.head()"
   ]
  },
  {
   "attachments": {},
   "cell_type": "markdown",
   "metadata": {},
   "source": [
    "Es posible también aplicar una función lambda"
   ]
  },
  {
   "cell_type": "code",
   "execution_count": 6,
   "metadata": {},
   "outputs": [
    {
     "data": {
      "text/html": [
       "<div>\n",
       "<style scoped>\n",
       "    .dataframe tbody tr th:only-of-type {\n",
       "        vertical-align: middle;\n",
       "    }\n",
       "\n",
       "    .dataframe tbody tr th {\n",
       "        vertical-align: top;\n",
       "    }\n",
       "\n",
       "    .dataframe thead th {\n",
       "        text-align: right;\n",
       "    }\n",
       "</style>\n",
       "<table border=\"1\" class=\"dataframe\">\n",
       "  <thead>\n",
       "    <tr style=\"text-align: right;\">\n",
       "      <th></th>\n",
       "      <th>temperatura</th>\n",
       "      <th>season</th>\n",
       "      <th>mas temperatura</th>\n",
       "    </tr>\n",
       "  </thead>\n",
       "  <tbody>\n",
       "    <tr>\n",
       "      <th>0</th>\n",
       "      <td>20</td>\n",
       "      <td>Otra</td>\n",
       "      <td>25</td>\n",
       "    </tr>\n",
       "    <tr>\n",
       "      <th>1</th>\n",
       "      <td>15</td>\n",
       "      <td>Otra</td>\n",
       "      <td>20</td>\n",
       "    </tr>\n",
       "    <tr>\n",
       "      <th>2</th>\n",
       "      <td>34</td>\n",
       "      <td>Verano</td>\n",
       "      <td>39</td>\n",
       "    </tr>\n",
       "    <tr>\n",
       "      <th>3</th>\n",
       "      <td>4</td>\n",
       "      <td>Invierno</td>\n",
       "      <td>9</td>\n",
       "    </tr>\n",
       "    <tr>\n",
       "      <th>4</th>\n",
       "      <td>1</td>\n",
       "      <td>Invierno</td>\n",
       "      <td>6</td>\n",
       "    </tr>\n",
       "  </tbody>\n",
       "</table>\n",
       "</div>"
      ],
      "text/plain": [
       "   temperatura    season  mas temperatura\n",
       "0           20      Otra               25\n",
       "1           15      Otra               20\n",
       "2           34    Verano               39\n",
       "3            4  Invierno                9\n",
       "4            1  Invierno                6"
      ]
     },
     "execution_count": 6,
     "metadata": {},
     "output_type": "execute_result"
    }
   ],
   "source": [
    "weather[\"mas temperatura\"] = weather[\"temperatura\"].apply(lambda x: x + 5)\n",
    "weather.head()"
   ]
  },
  {
   "cell_type": "code",
   "execution_count": 7,
   "metadata": {},
   "outputs": [
    {
     "data": {
      "text/html": [
       "<div>\n",
       "<style scoped>\n",
       "    .dataframe tbody tr th:only-of-type {\n",
       "        vertical-align: middle;\n",
       "    }\n",
       "\n",
       "    .dataframe tbody tr th {\n",
       "        vertical-align: top;\n",
       "    }\n",
       "\n",
       "    .dataframe thead th {\n",
       "        text-align: right;\n",
       "    }\n",
       "</style>\n",
       "<table border=\"1\" class=\"dataframe\">\n",
       "  <thead>\n",
       "    <tr style=\"text-align: right;\">\n",
       "      <th></th>\n",
       "      <th>temperatura</th>\n",
       "      <th>season</th>\n",
       "      <th>mas temperatura</th>\n",
       "      <th>season mayusculas</th>\n",
       "    </tr>\n",
       "  </thead>\n",
       "  <tbody>\n",
       "    <tr>\n",
       "      <th>0</th>\n",
       "      <td>20</td>\n",
       "      <td>Otra</td>\n",
       "      <td>25</td>\n",
       "      <td>OTRA</td>\n",
       "    </tr>\n",
       "    <tr>\n",
       "      <th>1</th>\n",
       "      <td>15</td>\n",
       "      <td>Otra</td>\n",
       "      <td>20</td>\n",
       "      <td>OTRA</td>\n",
       "    </tr>\n",
       "    <tr>\n",
       "      <th>2</th>\n",
       "      <td>34</td>\n",
       "      <td>Verano</td>\n",
       "      <td>39</td>\n",
       "      <td>VERANO</td>\n",
       "    </tr>\n",
       "    <tr>\n",
       "      <th>3</th>\n",
       "      <td>4</td>\n",
       "      <td>Invierno</td>\n",
       "      <td>9</td>\n",
       "      <td>INVIERNO</td>\n",
       "    </tr>\n",
       "    <tr>\n",
       "      <th>4</th>\n",
       "      <td>1</td>\n",
       "      <td>Invierno</td>\n",
       "      <td>6</td>\n",
       "      <td>INVIERNO</td>\n",
       "    </tr>\n",
       "  </tbody>\n",
       "</table>\n",
       "</div>"
      ],
      "text/plain": [
       "   temperatura    season  mas temperatura season mayusculas\n",
       "0           20      Otra               25              OTRA\n",
       "1           15      Otra               20              OTRA\n",
       "2           34    Verano               39            VERANO\n",
       "3            4  Invierno                9          INVIERNO\n",
       "4            1  Invierno                6          INVIERNO"
      ]
     },
     "execution_count": 7,
     "metadata": {},
     "output_type": "execute_result"
    }
   ],
   "source": [
    "weather[\"season mayusculas\"] = weather[\"season\"].apply(str.upper)\n",
    "weather.head()"
   ]
  },
  {
   "attachments": {},
   "cell_type": "markdown",
   "metadata": {},
   "source": [
    "## 8. Resumen\n",
    "Como habrás podido comprobar en este Notebook, y en lo vimos en recursividad, esta manera de programar es bastante diferente. Ya no entendemos el programa como un conjunto de variables o estados, sino como una serie de `input`/`output`. Lo bueno que tiene **Python es que combina la programación orientada a objetos con la programación funcional**, lo que le otorga una gran potencia."
   ]
  },
  {
   "cell_type": "code",
   "execution_count": 8,
   "metadata": {},
   "outputs": [
    {
     "name": "stdout",
     "output_type": "stream",
     "text": [
      "12\n",
      "[3, 7, 6, 8, 10, 13, 5, 14]\n",
      "17\n",
      "[5, 6]\n"
     ]
    }
   ],
   "source": [
    "# Funciones lambda\n",
    "suma_lambda = lambda x, y: x + y\n",
    "print(suma_lambda(5, 7))\n",
    "\n",
    "\n",
    "# Funcion map\n",
    "my_list = [1, 5, 4, 6, 8, 11, 3, 12]\n",
    "new_list = map(lambda x: x + 2 , my_list)\n",
    "print(list(new_list))\n",
    "\n",
    "\n",
    "# Funcion reduce\n",
    "from functools import reduce\n",
    "lista = [ 1 , 3, 5, 6, 2]\n",
    "print(reduce(lambda a,b : a+b, lista)) \n",
    "\n",
    "\n",
    "# Filter\n",
    "lista = [ 1 , 3, 5, 6, 2]\n",
    "filtrado = filter(lambda x: x >= 5, lista)\n",
    "print(list(filtrado))"
   ]
  }
 ],
 "metadata": {
  "kernelspec": {
   "display_name": "Python 3 (ipykernel)",
   "language": "python",
   "name": "python3"
  },
  "language_info": {
   "codemirror_mode": {
    "name": "ipython",
    "version": 3
   },
   "file_extension": ".py",
   "mimetype": "text/x-python",
   "name": "python",
   "nbconvert_exporter": "python",
   "pygments_lexer": "ipython3",
   "version": "3.11.3"
  }
 },
 "nbformat": 4,
 "nbformat_minor": 4
}
