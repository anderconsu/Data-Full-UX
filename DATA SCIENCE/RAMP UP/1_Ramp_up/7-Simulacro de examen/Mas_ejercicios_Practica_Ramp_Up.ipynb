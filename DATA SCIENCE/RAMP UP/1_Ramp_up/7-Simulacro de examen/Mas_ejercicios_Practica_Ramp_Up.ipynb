{
 "cells": [
  {
   "attachments": {},
   "cell_type": "markdown",
   "metadata": {},
   "source": [
    "# Entrega Ramp Up\n"
   ]
  },
  {
   "cell_type": "code",
   "execution_count": null,
   "metadata": {},
   "outputs": [],
   "source": [
    "\"\"\"\n",
    "Criterios de corrección:\n",
    "\n",
    "ejecución (ausencia de errores y obtención de resultados)\n",
    "estructura del código\n",
    "uso correcto de variables\n",
    "manejo de tipo de variables\n",
    "asignaciones\n",
    "operaciones booleanas\n",
    "manejo lógico de flujos de control y bucles\n",
    "uso de colecciones\n",
    "uso de funciones\n",
    "\"\"\";\n",
    "\n",
    "# Si no consigues los resultados, muestra los intentos\n",
    "\n",
    "# Ejemplo de como queremos ver el código para más de un intento:\n",
    "\n",
    "# intento 1\n",
    "#your code\n",
    "\n",
    "# intento 2\n",
    "#your code\n"
   ]
  },
  {
   "attachments": {},
   "cell_type": "markdown",
   "metadata": {},
   "source": [
    "## Ejercicio 1\n",
    "#### Crear un programa que calcule el promedio de una serie de números.\n",
    "\n",
    "El programa pedirá al usuario que introduzca numeros. En primer lugar le pedirá que indique cuantos números se quieren introducir, y enseñará un prompt para introducirlos (usando el método input), y calculará el promedio.\n"
   ]
  },
  {
   "cell_type": "code",
   "execution_count": 2,
   "metadata": {},
   "outputs": [
    {
     "name": "stdout",
     "output_type": "stream",
     "text": [
      "El promedio de los números introducidos es: 3.0\n"
     ]
    }
   ],
   "source": [
    "# Pedir al usuario que introduzca el número de elementos\n",
    "n = int(input(\"Introduce el número de elementos: \"))\n",
    "\n",
    "# Crear una lista vacía para almacenar los números\n",
    "numeros = []\n",
    "\n",
    "# Pedir al usuario que introduzca los números\n",
    "for i in range(n):\n",
    "    num = float(input(\"Introduce el número {}: \".format(i+1)))\n",
    "    numeros.append(num)\n",
    "\n",
    "# Calcular el promedio\n",
    "promedio = sum(numeros) / n\n",
    "\n",
    "# Imprimir el resultado\n",
    "print(\"El promedio de los números introducidos es:\", promedio)"
   ]
  },
  {
   "attachments": {},
   "cell_type": "markdown",
   "metadata": {},
   "source": [
    "## Ejercicio 2\n",
    "\n",
    "\n",
    "#### Escribe un programa en Python para convertir una lista de caracteres en un string.\n",
    "\n",
    "Lista de ejemplo : ['a','b','c','d']\n",
    "\n",
    "Salida esperada : abcd\n"
   ]
  },
  {
   "cell_type": "code",
   "execution_count": 3,
   "metadata": {},
   "outputs": [
    {
     "name": "stdout",
     "output_type": "stream",
     "text": [
      "Hola, mundo!\n"
     ]
    }
   ],
   "source": [
    "# Crear una lista de caracteres\n",
    "lista_caracteres = ['H', 'o', 'l', 'a', ', ', 'm', 'u', 'n', 'd', 'o', '!']\n",
    "\n",
    "# Convertir la lista en un string\n",
    "cadena = ''.join(lista_caracteres)\n",
    "\n",
    "# Imprimir el resultado\n",
    "print(cadena)"
   ]
  },
  {
   "attachments": {},
   "cell_type": "markdown",
   "metadata": {},
   "source": [
    "## Ejercicio 3\n",
    "\n",
    "#### Primeros y últimos 5 elementos\n",
    "Escribe un programa en Python que genere e imprima una lista que contenga los primeros y últimos 5 valores de los cuadrados de todos los números entre 1 y 30 (ambos inclusive). \n"
   ]
  },
  {
   "cell_type": "code",
   "execution_count": 5,
   "metadata": {},
   "outputs": [
    {
     "name": "stdout",
     "output_type": "stream",
     "text": [
      "[1, 4, 9, 16, 25, 676, 729, 784, 841, 900]\n"
     ]
    }
   ],
   "source": [
    "# Crear una lista vacía para almacenar los cuadrados\n",
    "cuadrados = []\n",
    "\n",
    "# Generar los cuadrados\n",
    "for i in range(1, 31):\n",
    "    cuadrado = i ** 2\n",
    "    cuadrados.append(cuadrado)\n",
    "\n",
    "# Crear la lista final\n",
    "lista_final = cuadrados[:5] + cuadrados[-5:]\n",
    "\n",
    "# Imprimir el resultado\n",
    "print(lista_final)\n",
    "\n"
   ]
  },
  {
   "attachments": {},
   "cell_type": "markdown",
   "metadata": {},
   "source": [
    "## Ejercicio 4\n",
    "#### Interactuando con listas\n",
    "\n",
    "\n",
    "Respecto de la lista de gadgets [\"Móvil\", \"Portátil\", 100, \"Cámara\", 310,28, \"Altavoces\", 27,00,\n",
    "\"Televisión\", 1000, \"Maletín para portátil\", \"Lente de cámara\"], completa las siguientes acciones:\n",
    "\n",
    "a)Crea listas separadas de string y números.  \n",
    "\n",
    "b)Ordena la lista de strings en orden ascendente  \n",
    "\n",
    "c)Ordena la lista de strings en orden descendente  \n",
    "\n",
    "d)Ordena la lista de números de menor a mayor  \n",
    "\n",
    "e)Ordena la lista de números de mayor a menor\n",
    "\n"
   ]
  },
  {
   "cell_type": "code",
   "execution_count": 6,
   "metadata": {},
   "outputs": [
    {
     "name": "stdout",
     "output_type": "stream",
     "text": [
      "['Altavoces', 'Cámara', 'Lente de cámara', 'Maletín para portátil', 'Móvil', 'Portátil', 'Televisión']\n",
      "['Televisión', 'Portátil', 'Móvil', 'Maletín para portátil', 'Lente de cámara', 'Cámara', 'Altavoces']\n",
      "[27.0, 28, 100, 310, 1000]\n",
      "[1000, 310, 100, 28, 27.0]\n"
     ]
    }
   ],
   "source": [
    "# Crear la lista de gadgets\n",
    "gadgets = [\"Móvil\", \"Portátil\", 100, \"Cámara\", 310, 28, \"Altavoces\", 27.00, \"Televisión\", 1000, \"Maletín para portátil\", \"Lente de cámara\"]\n",
    "\n",
    "# Crear listas separadas de string y números\n",
    "strings = []\n",
    "numeros = []\n",
    "for gadget in gadgets:\n",
    "    if isinstance(gadget, str):\n",
    "        strings.append(gadget)\n",
    "    else:\n",
    "        numeros.append(gadget)\n",
    "\n",
    "# Ordenar la lista de strings en orden ascendente\n",
    "strings.sort()\n",
    "print(strings)\n",
    "\n",
    "# Ordenar la lista de strings en orden descendente\n",
    "strings.sort(reverse=True)\n",
    "print(strings)\n",
    "\n",
    "# Ordenar la lista de números de menor a mayor\n",
    "numeros.sort()\n",
    "print(numeros)\n",
    "\n",
    "# Ordenar la lista de números de mayor a menor\n",
    "numeros.sort(reverse=True)\n",
    "print(numeros)"
   ]
  },
  {
   "attachments": {},
   "cell_type": "markdown",
   "metadata": {},
   "source": [
    "## Ejercicio 5\n",
    "#### Trabajando con listas anidadas\n",
    "\n",
    "Disponemos de una lista con información sobre varios empleados:\n",
    "\n",
    "    empleados = [[\"Juan Rodríguez\", 53, [\"Director financiero\"]],[\"Laura Pérez\", 41, [\"CEO\", \"Director\", \"Gerente\"]],[\"Pedro Álvarez\", 26, [\"Asistente\",\"Gestor comercial\"]]]\n",
    "\n",
    "Respecto de cada empleado, la lista contiene tres elementos: en el primero almacenamos su nombre, en el segundo su edad y en el tercero los puestos que ha desempeñado en la empresa (en forma de lista).\n",
    "\n",
    "1. Siguiendo la misma estructura, incluye un nuevo empleado en la última posición de la lista empleados.\n",
    "\n",
    "2. Mostrar por pantalla, sin uso de funciones (salvo print) ni bucles: \n",
    "\n",
    "    - El nombre y la edad del tercer empleado de la lista empleados.\n",
    "    - Los puestos desempeñados por Laura Pérez, ordenados de atras a adelante (es decir, de gerente a CEO)\n",
    "    - Si el nuevo empleado que has añadido tiene más de 30 años, muestra por pantalla los puestos que el nuevo empleado haya desempeñado en la empresa. En caso contrario, muestra los puestos desempeñados por Laura Pérez y Juan Rodriguez."
   ]
  },
  {
   "cell_type": "code",
   "execution_count": 11,
   "metadata": {},
   "outputs": [
    {
     "name": "stdout",
     "output_type": "stream",
     "text": [
      "['Pedro Álvarez', 26]\n",
      "Pedro Álvarez 26\n",
      "['Gerente', 'Director', 'CEO']\n",
      "['Analista financiero', 'Gestor de proyectos']\n"
     ]
    }
   ],
   "source": [
    "# Lista de empleados\n",
    "empleados = [[\"Juan Rodríguez\", 53, [\"Director financiero\"]],\n",
    "             [\"Laura Pérez\", 41, [\"CEO\", \"Director\", \"Gerente\"]],\n",
    "             [\"Pedro Álvarez\", 26, [\"Asistente\",\"Gestor comercial\"]]]\n",
    "\n",
    "# Incluir un nuevo empleado en la última posición de la lista empleados\n",
    "nuevo_empleado = [\"María Gómez\", 42, [\"Analista financiero\", \"Gestor de proyectos\"]]\n",
    "empleados.append(nuevo_empleado)\n",
    "\n",
    "# Mostrar el nombre y la edad del tercer empleado de la lista empleados\n",
    "tercer_empleado = empleados[2]\n",
    "nombre_tercer_empleado = tercer_empleado[0]\n",
    "edad_tercer_empleado = tercer_empleado[1]\n",
    "print(empleados[2][0:2])\n",
    "print(nombre_tercer_empleado, edad_tercer_empleado)\n",
    "\n",
    "# Mostrar los puestos desempeñados por Laura Pérez, ordenados de atrás hacia adelante\n",
    "puestos_laura_perez = empleados[1][2][::-1]\n",
    "print(puestos_laura_perez)\n",
    "\n",
    "# Mostrar los puestos del nuevo empleado si tiene más de 30 años, de lo contrario mostrar los puestos de Laura Pérez\n",
    "if nuevo_empleado[1] > 30:\n",
    "    print(nuevo_empleado[2])\n",
    "else:\n",
    "    print(empleados[1][2])\n"
   ]
  },
  {
   "attachments": {},
   "cell_type": "markdown",
   "metadata": {},
   "source": [
    "## Ejercicio 6\n",
    "\n",
    "#### Obtenga la primera y la segunda mejor puntuación de la lista.\n",
    "\n",
    "La lista puede contener duplicados.\n",
    "\n",
    "Ej: [86,86,85,85,85,83,23,45,84,1,2,0] => debería obtener, por este orden: 86, 85"
   ]
  },
  {
   "cell_type": "code",
   "execution_count": 12,
   "metadata": {},
   "outputs": [
    {
     "name": "stdout",
     "output_type": "stream",
     "text": [
      "86 85\n"
     ]
    }
   ],
   "source": [
    "# Lista de puntuaciones\n",
    "puntuaciones = [86, 86, 85, 85, 85, 83, 23, 45, 84, 1, 2, 0]\n",
    "\n",
    "# Convertir la lista en un conjunto para eliminar duplicados, luego convertir de nuevo a lista y ordenar de mayor a menor\n",
    "puntuaciones_ordenadas = sorted(list(set(puntuaciones)), reverse=True)\n",
    "\n",
    "# Mostrar la primera y segunda mejor puntuación\n",
    "primera_mejor_puntuacion = puntuaciones_ordenadas[0]\n",
    "segunda_mejor_puntuacion = puntuaciones_ordenadas[1]\n",
    "print(primera_mejor_puntuacion, segunda_mejor_puntuacion)\n"
   ]
  },
  {
   "attachments": {},
   "cell_type": "markdown",
   "metadata": {},
   "source": [
    "## Ejercicio 7\n",
    "\n",
    "#### Escriba un programa que detecte si una string es un palíndromo\n",
    "\n",
    "Pedir al usuario una string e imprimir si esta string es un palíndromo o no. (Un palíndromo es un string que se lee igual hacia adelante y hacia atrás)."
   ]
  },
  {
   "cell_type": "code",
   "execution_count": 16,
   "metadata": {},
   "outputs": [
    {
     "name": "stdout",
     "output_type": "stream",
     "text": [
      "La cadena es un palíndromo\n"
     ]
    }
   ],
   "source": [
    "# Pedir al usuario una string\n",
    "cadena = input(\"Ingrese una cadena: \")\n",
    "cadena = cadena.lower()\n",
    "\n",
    "# Revertir la cadena\n",
    "cadena_revertida = cadena[::-1]\n",
    "\n",
    "# Comparar la cadena original con la cadena revertida\n",
    "if cadena == cadena_revertida:\n",
    "    print(\"La cadena es un palíndromo\")\n",
    "else:\n",
    "    print(\"La cadena no es un palíndromo\")"
   ]
  },
  {
   "attachments": {},
   "cell_type": "markdown",
   "metadata": {},
   "source": [
    "## Ejercicio 8\n",
    "#### Crear un programa que calcule la cuota de una hipoteca\n",
    "\n",
    "(Esto NO  caería en un examen)\n",
    "\n",
    "Las cuotas hipotecarias se calculan utilizando la fórmula del interés frances. El objetivo del ejercicio es crear un programa que solicite al usuario los datos de su hipoteca (cantidad, intereses, y plazo en años) y le devuelva la cuota mensual a pagar\n",
    "\n",
    "La formula del interés frances es la siguiente:\n",
    "\\begin{align*}\n",
    "C=V \\frac{(1+i)^n i}{(1+i)^n -1}\n",
    "\\end{align*}\n",
    "\n",
    "\n",
    "    C = Cuota a pagar\n",
    "    V = Cantidad del préstamo hipotecario\n",
    "    i = tipo de interés del período (tipo de interes de la hipoteca por mes)\n",
    "    n = número de cuotas (en meses)\n",
    "\n",
    "V = 300.000\n",
    "\n",
    "i = 2 %\n",
    "\n",
    "n = 20*12\n",
    "\n",
    "output: 1517"
   ]
  },
  {
   "cell_type": "code",
   "execution_count": null,
   "metadata": {},
   "outputs": [],
   "source": []
  },
  {
   "attachments": {},
   "cell_type": "markdown",
   "metadata": {},
   "source": [
    "## Ejercicio 9\n",
    "#### Crear un programa que calcule el plan de amortización\n",
    "\n",
    "(Esto no caería en un examen)\n",
    "\n",
    "El objetivo del ejercicio es crear un programa que solicite al usuario los datos de su hipoteca (cantidad, intereses, y plazo en años) y le devuelva el plan de amortización.\n",
    "\n",
    "En cada cuota se pagan intereses por el capital restante, y se devuelve capital hasta la cuota mensual. El capital restante ha de ser actualizado restandole el capital devuelto.\n",
    "\n",
    "Salida ejemplo:\n",
    "\n",
    "mes  cuota  intereses  principal  pendiente   \n",
    "\n",
    "0  758.89   450.00   308.89   179691.11 \n",
    "\n",
    "**NOTA**: Tienes que partir de tipo de interes por periodo calculado en el apartado anterior, y del total de la hipoteca. Para cada mes calcular:\n",
    "\n",
    "1. cuota (apartado anterior)\n",
    "2. intereses a pagar del mes (lo que quede por pagar * interes por periodo del apartado anterior)\n",
    "3. principal (cuota - interes)\n",
    "4. pendiente (lo que quede por pagar - principal)"
   ]
  },
  {
   "cell_type": "code",
   "execution_count": null,
   "metadata": {},
   "outputs": [],
   "source": [
    "# por ejemplo con 50000 de hipoteca\n",
    "'''\n",
    "mes  cuota  intereses  principal  pendiente\n",
    "0  990.06   291.67   698.39   49301.61 \n",
    "1  990.06   287.59   702.47   48599.14 \n",
    "2  990.06   283.49   706.56   47892.57 \n",
    "3  990.06   279.37   710.69   47181.89 \n",
    "4  990.06   275.23   714.83   46467.06 \n",
    "5  990.06   271.06   719.00   45748.05 \n",
    "6  990.06   266.86   723.20   45024.86 \n",
    "7  990.06   262.65   727.41   44297.44 \n",
    "8  990.06   258.40   731.66   43565.78 \n",
    "9  990.06   254.13   735.93   42829.86 \n",
    "10  990.06   249.84   740.22   42089.64\n",
    "'''"
   ]
  },
  {
   "attachments": {},
   "cell_type": "markdown",
   "metadata": {},
   "source": [
    "## Ejercicio 10\n",
    "#### Crear un programa que resuelva una ecuación de segundo grado \n",
    "\n",
    "El objetivo del programa es resolver la ecuación de segundo grado \n",
    "\n",
    "\\begin{align*}\n",
    "ax^2+bx+c = 0\n",
    "\\end{align*}\n",
    "\n",
    "Pasando como parámetros los coeficientes de la ecuación. La resolución de la ecuación es la siguiente:\n",
    "\n",
    "\\begin{align*}\n",
    "x=\\frac{-b \\pm \\sqrt{b^2-4ac}}{2a}\n",
    "\\end{align*}\n",
    "\n",
    "Para realizar este programa tienes que utilizar el metodo sqrt() para calcular la raiz cuadrada. Para ello tienes que importar el módulo math. Así que tu programa debería empezar con ```ìmport math```"
   ]
  },
  {
   "cell_type": "code",
   "execution_count": 19,
   "metadata": {},
   "outputs": [
    {
     "name": "stdout",
     "output_type": "stream",
     "text": [
      "La ecuación no tiene solución real\n"
     ]
    }
   ],
   "source": [
    "# Importar el módulo math\n",
    "import math\n",
    "\n",
    "# Pedir al usuario los coeficientes de la ecuación\n",
    "a = float(input(\"Ingrese el coeficiente a: \"))\n",
    "b = float(input(\"Ingrese el coeficiente b: \"))\n",
    "c = float(input(\"Ingrese el coeficiente c: \"))\n",
    "\n",
    "# Calcular el discriminante\n",
    "discriminante = (b**2) - (4*a*c)\n",
    "\n",
    "# Comprobar si la ecuación tiene solución\n",
    "if discriminante < 0:\n",
    "    print(\"La ecuación no tiene solución real\")\n",
    "elif discriminante == 0:\n",
    "    x = -b / (2*a)\n",
    "    print(\"La solución de la ecuación es:\", x)\n",
    "else:\n",
    "    x1 = (-b + math.sqrt(discriminante)) / (2*a)\n",
    "    x2 = (-b - math.sqrt(discriminante)) / (2*a)\n",
    "    print(\"Las soluciones de la ecuación son:\", x1, \"y\", x2)"
   ]
  },
  {
   "attachments": {},
   "cell_type": "markdown",
   "metadata": {},
   "source": [
    "## (Bonus) Ejercicio 11\n",
    "#### Desarrolla el juego del ahorcado\n",
    "El juego del ahorcado consiste en adivinar una palabra, probando letra a letra. El jugador tiene permitidos 6 fallos, al 7mo fallo pierde. \n",
    "\n",
    "* Habrá que imprimir por pantalla una cantidad de guiones igual al numero de letras e ir sustituyéndolos con los aciertos.\n",
    "* Necesitarás usar un bucle while con un input para modelar las jugadas del ahoracado. En cada ejecución del while comprueba las vidas del jugador, y los aciertos."
   ]
  },
  {
   "cell_type": "code",
   "execution_count": 29,
   "metadata": {},
   "outputs": [
    {
     "name": "stdout",
     "output_type": "stream",
     "text": [
      "_ _ _ _ _ _ _ _ _ _ _ _\n",
      "Felicidades! Has adivinado la palabra estetoscopio\n"
     ]
    }
   ],
   "source": [
    "# Definir la palabra a adivinar\n",
    "palabra = \"estetoscopio\"\n",
    "\n",
    "# Convertir la palabra en una lista de caracteres\n",
    "letras = list(palabra)\n",
    "\n",
    "# Crear una lista de guiones para mostrar las letras a adivinar\n",
    "guiones = [\"_\"] * len(letras)\n",
    "\n",
    "# Inicializar las vidas del jugador\n",
    "vidas = 6\n",
    "\n",
    "# Bucle principal del juego\n",
    "while True:\n",
    "    # Mostrar los guiones\n",
    "    print(\" \".join(guiones))\n",
    "\n",
    "    # Pedir al jugador una letra\n",
    "    letra = input(\"Introduce una letra: \")\n",
    "\n",
    "    # Comprobar si la letra está en la palabra\n",
    "    if letra in letras:\n",
    "        # Reemplazar los guiones por la letra acertada\n",
    "        for i in range(len(letras)):\n",
    "            if letras[i] == letra:\n",
    "                guiones[i] = letra\n",
    "    \n",
    "    elif letra == str(palabra):\n",
    "        print(\"Felicidades! Has adivinado la palabra\", palabra)\n",
    "        break\n",
    "    \n",
    "    else:\n",
    "        # Restar una vida al jugador\n",
    "        vidas -= 1\n",
    "        print(\"La letra\", letra, \"no esta en la palabra. Sigue intentando\")\n",
    "        print(\"¡Incorrecto! Te quedan\", vidas, \"vidas.\")\n",
    "\n",
    "    # Comprobar si el jugador ha ganado o perdido\n",
    "    if \"_\" not in guiones:\n",
    "        print(\"¡Felicidades! Has adivinado la palabra:\", palabra)\n",
    "        break\n",
    "    elif vidas == 0:\n",
    "        print(\"¡Perdiste! La palabra era:\", palabra)\n",
    "        break\n"
   ]
  },
  {
   "cell_type": "code",
   "execution_count": null,
   "metadata": {},
   "outputs": [],
   "source": []
  }
 ],
 "metadata": {
  "kernelspec": {
   "display_name": "Python 3 (ipykernel)",
   "language": "python",
   "name": "python3"
  },
  "language_info": {
   "codemirror_mode": {
    "name": "ipython",
    "version": 3
   },
   "file_extension": ".py",
   "mimetype": "text/x-python",
   "name": "python",
   "nbconvert_exporter": "python",
   "pygments_lexer": "ipython3",
   "version": "3.11.3"
  },
  "vscode": {
   "interpreter": {
    "hash": "252189e587d1e2aeba4a06e91fa71896c7a7f6e22e918b9407c7cde4ef2d5985"
   }
  }
 },
 "nbformat": 4,
 "nbformat_minor": 4
}
