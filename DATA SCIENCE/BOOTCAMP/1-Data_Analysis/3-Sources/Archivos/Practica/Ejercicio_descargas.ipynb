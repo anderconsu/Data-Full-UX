{
 "cells": [
  {
   "cell_type": "markdown",
   "metadata": {},
   "source": [
    "## Ejercicio descargas"
   ]
  },
  {
   "cell_type": "markdown",
   "metadata": {},
   "source": [
    "Python es un lenguaje de propósito general, por lo que podemos desarrollar otros programas,\n",
    "aparte de ciencia de datos, que nos permitan montar dashboards, crear APIs o automatizar\n",
    "procesos. En este caso vas a automatizar un proceso, en el que tendrás que desarrollar un\n",
    "script que ordene todos los archivos de una carpeta, dependiendo de la extensión de los\n",
    "mismos.\n",
    "\n",
    "\n",
    "El objetivo es ordenar la típica carpeta de cajón desastre donde se nos acumulan archivos de\n",
    "todos los formatos como: imágenes, words, presentaciones, excels, ejecutables, zips, etc... Y\n",
    "que no vamos a ir viendo archivo a archivo, ordenándolos.... La solución suele ser eliminarlo\n",
    "todo. Vamos a intentar no tener que llegar a eso, ordenando los ficheros automáticamente en\n",
    "carpetas y revisar las que nos interesen. La típica carpeta donde aplicaríamos este programa es\n",
    "la de “Descargas”, donde se suelen acumular muchos archivos temporales.\n",
    "\n",
    "\n",
    "Por tanto, **el programa tiene que guardar los archivos de la carpeta “Descargas” (o cualquier\n",
    "otra donde acumules mucho archivo temporal) en los siguientes directorios dentro de la\n",
    "propia carpeta “Descargas”**:\n",
    "- Imagenes\n",
    "- Documentos\n",
    "- Software\n",
    "- Otros\n",
    "\n",
    "Cada vez que ejecutes el script, automáticamente se ordenarán todos los archivos en sus\n",
    "correspondientes carpetas.\n"
   ]
  },
  {
   "cell_type": "code",
   "execution_count": 80,
   "metadata": {},
   "outputs": [],
   "source": [
    "doc_types = ('.doc', '.docx', '.txt', '.pdf', '.xls', '.ppt', '.xlsx', '.pptx')\n",
    "img_types = ('.jpg', '.jpeg', '.png', '.svg', '.gif', '.tif', '.tiff')\n",
    "software_types = ('.exe', '.pkg', '.dmg')"
   ]
  },
  {
   "cell_type": "code",
   "execution_count": 105,
   "metadata": {},
   "outputs": [],
   "source": [
    "import os\n",
    "import shutil"
   ]
  },
  {
   "cell_type": "markdown",
   "metadata": {},
   "source": [
    "### 1. Crea un main.py con el programa principal y las funciones necesarias en funciones.py"
   ]
  },
  {
   "cell_type": "code",
   "execution_count": 116,
   "metadata": {},
   "outputs": [],
   "source": [
    "path_to_organize = input('Indica la carpeta a organizar: ')"
   ]
  },
  {
   "cell_type": "code",
   "execution_count": 119,
   "metadata": {},
   "outputs": [],
   "source": [
    "os.chdir(r'C:\\Users\\migue\\OneDrive\\Documentos\\Bootcamp\\Descargas_ej_2')"
   ]
  },
  {
   "cell_type": "code",
   "execution_count": 117,
   "metadata": {},
   "outputs": [
    {
     "data": {
      "text/plain": [
       "'C:\\\\Users\\\\migue\\\\OneDrive\\\\Documentos\\\\Bootcamp\\\\Descargas_ej_2'"
      ]
     },
     "execution_count": 117,
     "metadata": {},
     "output_type": "execute_result"
    }
   ],
   "source": [
    "path_to_organize"
   ]
  },
  {
   "cell_type": "code",
   "execution_count": 106,
   "metadata": {},
   "outputs": [
    {
     "data": {
      "text/plain": [
       "'C:\\\\Users\\\\migue\\\\OneDrive\\\\Documentos\\\\Bootcamp\\\\Descargas_ej'"
      ]
     },
     "execution_count": 106,
     "metadata": {},
     "output_type": "execute_result"
    }
   ],
   "source": [
    "os.getcwd()"
   ]
  },
  {
   "cell_type": "code",
   "execution_count": 107,
   "metadata": {},
   "outputs": [],
   "source": [
    "os.chdir(path_to_organize)"
   ]
  },
  {
   "cell_type": "code",
   "execution_count": 108,
   "metadata": {},
   "outputs": [
    {
     "data": {
      "text/plain": [
       "'C:\\\\Users\\\\migue\\\\OneDrive\\\\Documentos\\\\Bootcamp\\\\Descargas_ej_2'"
      ]
     },
     "execution_count": 108,
     "metadata": {},
     "output_type": "execute_result"
    }
   ],
   "source": [
    "os.getcwd()"
   ]
  },
  {
   "cell_type": "code",
   "execution_count": 115,
   "metadata": {},
   "outputs": [],
   "source": [
    "lista_carpetas = ['Imagenes', 'Documentos', 'Software', 'Otros']\n",
    "for i in lista_carpetas:\n",
    "    os.makedirs(i, exist_ok= True)"
   ]
  },
  {
   "cell_type": "code",
   "execution_count": 110,
   "metadata": {},
   "outputs": [
    {
     "data": {
      "text/plain": [
       "['0FF1C3 2022 - by Diekrolo.rar',\n",
       " '2.-EDA (Lili).rar',\n",
       " '2211_RUP.ipynb',\n",
       " '2mayo-presentacion-bootcamp_compressed.pdf',\n",
       " '3esoacademicas_repaso_temas_111213_y_14.docx',\n",
       " 'a771f142-9ed3-4c06-badd-783f33b5903a.avif',\n",
       " 'antonio_gomez.ipynb',\n",
       " 'Apuntes.pdf',\n",
       " 'autoencoder.ipynb',\n",
       " 'Badges.pdf',\n",
       " 'bdhcompleto_csv-cp1252.zip',\n",
       " 'BD_SQL_teoría.pdf',\n",
       " 'C2_W2_Multiclass_TF.ipynb',\n",
       " 'C2_W2_Relu.ipynb',\n",
       " 'C2_W2_SoftMax.ipynb',\n",
       " 'certificado_empadronamiento (1).pdf',\n",
       " 'certificado_empadronamiento (2).pdf',\n",
       " 'certificado_empadronamiento.pdf',\n",
       " 'cert_3507019.pdf',\n",
       " 'ChromeSetup.exe',\n",
       " 'claves-prueba-2.pem',\n",
       " 'claves-prueba-3.pem',\n",
       " 'claves-prueba.pem',\n",
       " 'clips-30003.png',\n",
       " 'Contenido_Diario_(DS_FT).xlsx',\n",
       " 'Contenido_Diario_(DS_FT).xlsx - Calendario Noviembre.tsv',\n",
       " 'Contenido_Diario_(DS_FT-Nov2022).xlsx',\n",
       " 'Contenido_Diario_(DS_FT-Nov2022).xlsx - Badges.pdf',\n",
       " 'Contrato_LA_CRUZ_PINO_MIGUEL_STIVEN.pdf',\n",
       " 'CO_2_-_copia.csv',\n",
       " 'Cronogramas The Bridge (BBK 2023) - MAY23 - FT.pdf',\n",
       " 'CRONO_FEB23_BILBAO_FT-1.pdf',\n",
       " 'data (1).zip',\n",
       " 'data.zip',\n",
       " 'data_discord.png',\n",
       " 'Definicion_EDA_ASuarez.zip',\n",
       " 'descarga (1).jpg',\n",
       " 'descarga (2).jpg',\n",
       " 'descarga (3).jpg',\n",
       " 'descarga (4).jpg',\n",
       " 'descarga (5).jpg',\n",
       " 'descarga (6).jpg',\n",
       " 'descarga (7).jpg',\n",
       " 'descarga.jpg',\n",
       " 'descarga.png',\n",
       " 'Dialnet-ErroresFrecuentesEnLaInterpretacionDelCoeficienteD-1143023.pdf',\n",
       " 'DiscordSetup.exe',\n",
       " 'docker.ipynb',\n",
       " 'Documentos',\n",
       " 'dogsandcats.rar',\n",
       " 'Doodle Statistics Infographics by Slidesgo copy.pptx',\n",
       " 'Doodle Statistics Infographics by Slidesgo.pptx',\n",
       " 'ea0019768-biblioteca-digital-hispanica-bdh-set-completo.csv',\n",
       " 'Edas',\n",
       " 'Ejercicio powerBI.xlsx',\n",
       " 'ejercicio_git.ipynb',\n",
       " 'Embeddings.pptx',\n",
       " 'estrechar-manos-1-1024x683.jpg',\n",
       " 'Examen ejericios resueltos.ipynb',\n",
       " 'Examen_ejercicios_vacios.ipynb',\n",
       " 'Examen_RampUp (1).ipynb',\n",
       " 'Examen_RampUp.ipynb',\n",
       " 'Examen_RampUp_Adelaida_Suarez.ipynb',\n",
       " 'Examen_RampUp_Mercedes.ipynb',\n",
       " 'Exercise_FilmAffinity (1).ipynb',\n",
       " 'Exercise_FilmAffinity.ipynb',\n",
       " 'Folleto PDF Data Science.pdf',\n",
       " 'Git-2.39.2-64-bit.exe',\n",
       " 'hand-drawn-doodle-population-growth-icon-chart-and-graph-illustration-isolated-vector.jpg',\n",
       " 'Hoja de cálculo sin título - solution (1) (1).csv',\n",
       " 'Hoja de cálculo sin título - solution (1) (2).csv',\n",
       " 'Hoja de cálculo sin título - solution (1).csv',\n",
       " 'Hoja de cálculo sin título - solution (1).tsv',\n",
       " 'Hoja de cálculo sin título.xlsx',\n",
       " 'hola_mundo',\n",
       " 'icals.ics',\n",
       " 'imagen poblacion y muestra.png',\n",
       " 'Imagenes',\n",
       " 'images (1).jpg',\n",
       " 'images (2).jpg',\n",
       " 'images.jpg',\n",
       " 'imbd_emb.zip',\n",
       " 'imdb_task.ipynb',\n",
       " 'InfoSys_Miguel_La_Cruz.png',\n",
       " 'Intro_bootcamp_05_23_DS_FT.pptx',\n",
       " 'Kaggle_Ayuda.ipynb',\n",
       " 'kaggle_best-model.ipynb',\n",
       " 'logo_bbk_bootcamps_thebridge_negativo-scaled.jpg',\n",
       " 'Mario_Tutorial.ipynb',\n",
       " 'Mi_vida_despues_del_bootcamp_removed.pdf',\n",
       " 'NIE_Miguel_La_Cruz.jpg',\n",
       " 'Nomina_Miguel_La_Cruz.pdf',\n",
       " 'notebook_prueba.ipynb',\n",
       " 'Notebook_prueba_2.ipynb',\n",
       " 'officedeploymenttool_16327-20214.exe',\n",
       " 'Otros',\n",
       " 'paisajes.zip',\n",
       " 'Pasaporte_Miguel_La_Cruz.jpg',\n",
       " 'Pino la Cruz Stiven Miguel - Data 02.22 - CERTIFICADO.pdf',\n",
       " 'Pino la Cruz Stiven Miguel - Data 02.22 - TÍTULO.pdf',\n",
       " 'plantas_gonzalo.pdf',\n",
       " 'plantas_gonzalo_removed.pdf',\n",
       " 'poblacion.jpg',\n",
       " 'Postman-win64-Setup.exe',\n",
       " 'presentacion_tbridge.pptx',\n",
       " 'PRL Miguel.pdf',\n",
       " 'PROF_ALUMNO_Examen_ramp_up-01062023.ipynb',\n",
       " 'PROF_SOLUCION_Examen_ramp_up-01062023.ipynb',\n",
       " 'python-3.7.4-amd64.exe',\n",
       " 'regex_presen.pdf',\n",
       " 'regex_presen.pptx',\n",
       " 'Reinforcement_Learning.ipynb',\n",
       " 'renta_media_CCAA.csv',\n",
       " 'Seguros_consentimiento_contrato_terapeutico.pdf',\n",
       " 'Seguros_consentimiento_contrato_terapeutico_firmado.pdf',\n",
       " 'Selenium.ipynb',\n",
       " 'Silver Economy',\n",
       " 'sklearn3-0.0.1.tar.gz',\n",
       " 'SlackSetup.exe',\n",
       " 'Software',\n",
       " 'solution (1).csv',\n",
       " 'solution.csv',\n",
       " 'SQLiteStudio-3.4.3-windows-x64-installer.exe',\n",
       " 'Taller_Github.zip',\n",
       " 'Taller_OpenCV',\n",
       " 'Taller_OpenCV.zip',\n",
       " 'tbridgelogo.jpg',\n",
       " 'The_bridge___Taller_de_Srum_FT_-_nov_2022_1.pptx',\n",
       " 'Tipo_Test_vacio.md',\n",
       " 'train-balanced-sarcasm.rar',\n",
       " 'Tutorías.pdf',\n",
       " 'updf-9010100006-win-installer.exe',\n",
       " 'variable',\n",
       " 'Zoom_cm_fo42anktZ9vvrZo4_m3wCu66wPXe8r+MTERJzWqE-5co-i+8GHaEk2@CEcnvW7qiGCPy8WL_k5c0c4d58b9baf9d8_.exe',\n",
       " 'Zoom_cm_fo42anktZ9vvrZo4_maJBL36DIG53OUgUOJerv8FIPJjG830KD7Qri@257yZKxn7ZEu8KZ0_k5c0c4d58b9baf9d8_.exe']"
      ]
     },
     "execution_count": 110,
     "metadata": {},
     "output_type": "execute_result"
    }
   ],
   "source": [
    "os.listdir()"
   ]
  },
  {
   "cell_type": "code",
   "execution_count": null,
   "metadata": {},
   "outputs": [],
   "source": [
    "os.path.isdir()"
   ]
  },
  {
   "cell_type": "code",
   "execution_count": 113,
   "metadata": {},
   "outputs": [],
   "source": [
    "for i in os.listdir():\n",
    "    if i.endswith(doc_types):\n",
    "        shutil.move(i, 'Documentos')\n",
    "    elif i.endswith(img_types):\n",
    "        shutil.move(i, 'Imagenes')\n",
    "    elif i.endswith(software_types):\n",
    "        shutil.move(i, 'Software')\n",
    "    elif not os.path.isdir(i): # elif '.' in i\n",
    "        shutil.move(i, 'Otros')"
   ]
  },
  {
   "attachments": {},
   "cell_type": "markdown",
   "metadata": {},
   "source": [
    "### 2. Bonus track. Crea un main_class.py con el programa principal y su clase \"Fichero\" en clase.py"
   ]
  },
  {
   "cell_type": "code",
   "execution_count": null,
   "metadata": {},
   "outputs": [],
   "source": [
    "# from tkinter import Tk\n",
    "# from tkinter.filedialog import askdirectory\n",
    "\n",
    "# # Crear una instancia de Tkinter\n",
    "# root = Tk()\n",
    "# root.withdraw()  # Ocultar la ventana principal de Tkinter\n",
    "\n",
    "# # Mostrar el cuadro de diálogo para seleccionar un directorio\n",
    "# path_to_organize = askdirectory()\n",
    "\n",
    "# # Imprimir la ruta del directorio seleccionado\n",
    "# print(path_to_organize)"
   ]
  }
 ],
 "metadata": {
  "kernelspec": {
   "display_name": "Python 3",
   "language": "python",
   "name": "python3"
  },
  "language_info": {
   "codemirror_mode": {
    "name": "ipython",
    "version": 3
   },
   "file_extension": ".py",
   "mimetype": "text/x-python",
   "name": "python",
   "nbconvert_exporter": "python",
   "pygments_lexer": "ipython3",
   "version": "3.11.3"
  },
  "orig_nbformat": 4,
  "vscode": {
   "interpreter": {
    "hash": "1e989a6a87260c027f3014f78a3a3d191394072689c96a40223c8499353d25ee"
   }
  }
 },
 "nbformat": 4,
 "nbformat_minor": 2
}
