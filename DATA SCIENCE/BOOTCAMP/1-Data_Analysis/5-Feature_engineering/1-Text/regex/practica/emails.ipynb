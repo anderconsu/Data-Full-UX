{
 "cells": [
  {
   "cell_type": "markdown",
   "metadata": {},
   "source": [
    "# Extrae los dominios de los correos con una expresión regular"
   ]
  },
  {
   "cell_type": "code",
   "execution_count": 31,
   "metadata": {},
   "outputs": [],
   "source": [
    "import re\n",
    "\n",
    "emails = '''\n",
    "miguellc@thebridgeschool.tech\n",
    "miguel.cruz@uc3m.es\n",
    "miguel-12-2000@mi-correo.net\n",
    "miguellc@s@thebridgeschool.es\n",
    "'''"
   ]
  },
  {
   "cell_type": "markdown",
   "metadata": {},
   "source": [
    "Ejemplo:\n",
    "* @thebridgeschool.tech\n",
    "* @uc3m.es\n",
    "* @mi-correo.net\n",
    "* @thebridgeschool.es"
   ]
  },
  {
   "cell_type": "code",
   "execution_count": 37,
   "metadata": {},
   "outputs": [
    {
     "name": "stdout",
     "output_type": "stream",
     "text": [
      "<re.Match object; span=(9, 30), match='@thebridgeschool.tech'>\n",
      "<re.Match object; span=(42, 50), match='@uc3m.es'>\n",
      "<re.Match object; span=(65, 79), match='@mi-correo.net'>\n",
      "<re.Match object; span=(88, 109), match='@s@thebridgeschool.es'>\n"
     ]
    }
   ],
   "source": [
    "pattern = re.compile(r'@.+\\.*')\n",
    "matches = pattern.finditer(emails)\n",
    "\n",
    "for match in matches:\n",
    "    print(match)"
   ]
  },
  {
   "cell_type": "code",
   "execution_count": 44,
   "metadata": {},
   "outputs": [],
   "source": [
    "pattern = re.compile(r'@([a-zA-Z0-9.-])\\.*')\n",
    "matches = pattern.finditer(emails)\n",
    "\n",
    "for match in matches:\n",
    "    print(match)"
   ]
  },
  {
   "cell_type": "code",
   "execution_count": 58,
   "metadata": {},
   "outputs": [
    {
     "name": "stdout",
     "output_type": "stream",
     "text": [
      "<re.Match object; span=(9, 30), match='@thebridgeschool.tech'>\n",
      "<re.Match object; span=(42, 50), match='@uc3m.es'>\n",
      "<re.Match object; span=(65, 79), match='@mi-correo.net'>\n",
      "<re.Match object; span=(90, 109), match='@thebridgeschool.es'>\n"
     ]
    }
   ],
   "source": [
    "pattern = re.compile(r'@\\w{2,20}.\\w+.\\w+')\n",
    "matches = pattern.finditer(emails)\n",
    "\n",
    "for match in matches:\n",
    "    print(match)"
   ]
  },
  {
   "cell_type": "code",
   "execution_count": 59,
   "metadata": {},
   "outputs": [
    {
     "name": "stdout",
     "output_type": "stream",
     "text": [
      "<re.Match object; span=(9, 30), match='@thebridgeschool.tech'>\n",
      "<re.Match object; span=(42, 50), match='@uc3m.es'>\n",
      "<re.Match object; span=(65, 79), match='@mi-correo.net'>\n",
      "<re.Match object; span=(88, 90), match='@s'>\n",
      "<re.Match object; span=(90, 109), match='@thebridgeschool.es'>\n"
     ]
    }
   ],
   "source": [
    "pattern = re.compile(r'@[\\w.-]+')\n",
    "matches = pattern.finditer(emails)\n",
    "\n",
    "for match in matches:\n",
    "    print(match)"
   ]
  }
 ],
 "metadata": {
  "kernelspec": {
   "display_name": "Python 3.7.4 64-bit",
   "language": "python",
   "name": "python3"
  },
  "language_info": {
   "codemirror_mode": {
    "name": "ipython",
    "version": 3
   },
   "file_extension": ".py",
   "mimetype": "text/x-python",
   "name": "python",
   "nbconvert_exporter": "python",
   "pygments_lexer": "ipython3",
   "version": "3.7.4"
  },
  "orig_nbformat": 4,
  "vscode": {
   "interpreter": {
    "hash": "90139cb9a825bf3d63f6f6704e828dbd1ff7edbd4d0c6e906a71235d6efc74af"
   }
  }
 },
 "nbformat": 4,
 "nbformat_minor": 2
}
